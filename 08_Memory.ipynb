{
 "cells": [
  {
   "cell_type": "code",
   "execution_count": 5,
   "id": "4c15d918",
   "metadata": {},
   "outputs": [],
   "source": [
    "from langchain_ollama import OllamaLLM\n",
    "from langgraph.checkpoint.memory import InMemorySaver\n",
    "from langgraph.graph import StateGraph"
   ]
  },
  {
   "cell_type": "code",
   "execution_count": 2,
   "id": "838b43ce",
   "metadata": {},
   "outputs": [],
   "source": [
    "from typing import TypedDict,Annotated\n",
    "from langchain_core.messages import BaseMessage, AIMessage, HumanMessage\n",
    "from langgraph.graph import add_messages"
   ]
  },
  {
   "cell_type": "code",
   "execution_count": 3,
   "id": "0aa1c9d8",
   "metadata": {},
   "outputs": [],
   "source": [
    "from langchain_ollama import OllamaLLM\n",
    "llm = OllamaLLM(model='thinkverse/towerinstruct')"
   ]
  },
  {
   "cell_type": "code",
   "execution_count": 3,
   "id": "d0c50b90",
   "metadata": {},
   "outputs": [],
   "source": [
    "class State(TypedDict):\n",
    "    messages: Annotated[list[BaseMessage],add_messages]"
   ]
  },
  {
   "cell_type": "code",
   "execution_count": 9,
   "id": "56d7732d",
   "metadata": {},
   "outputs": [],
   "source": [
    "def ChatBot(state:State):\n",
    "    #Take user query\n",
    "    query = state[\"messages\"]\n",
    "    \n",
    "    #send to llm\n",
    "\n",
    "    response = llm.invoke(query)\n",
    "    #store to the state\n",
    "\n",
    "    return {\"messages\":[response]}\n"
   ]
  },
  {
   "cell_type": "code",
   "execution_count": 10,
   "id": "13e3bbbb",
   "metadata": {},
   "outputs": [],
   "source": [
    "from langgraph.graph import StateGraph,START,END\n",
    "workflow =StateGraph(State)\n",
    "\n",
    "#Add the nodes\n",
    "workflow.add_node(\"chatbot\",ChatBot)\n",
    "# Add the edges\n",
    "workflow.add_edge(START,\"chatbot\")\n",
    "workflow.add_edge(\"chatbot\",END)\n",
    "# Compile the graph\n",
    "memory =InMemorySaver()\n",
    "graph =workflow.compile(checkpointer =memory)"
   ]
  },
  {
   "cell_type": "code",
   "execution_count": 14,
   "id": "3038d1ee",
   "metadata": {},
   "outputs": [],
   "source": [
    "res=graph.invoke(\n",
    "    {\"messages\": [{\"role\": \"user\", \"content\": \"What is my name\"}]},\n",
    "    {\"configurable\": {\"thread_id\": \"1\"}},\n",
    ")"
   ]
  },
  {
   "cell_type": "code",
   "execution_count": 18,
   "id": "b8c78d51",
   "metadata": {},
   "outputs": [
    {
     "data": {
      "text/plain": [
       "{'messages': [HumanMessage(content='hi! i am Bob', additional_kwargs={}, response_metadata={}, id='095337a0-0d62-4d69-8bf1-592b4e14d762'),\n",
       "  HumanMessage(content=' I can understand and respond to your commands. What is your question or request?', additional_kwargs={}, response_metadata={}, id='1b97b925-c0de-4db9-9e73-2bb6fb910e9a'),\n",
       "  HumanMessage(content='hi! i am Bob', additional_kwargs={}, response_metadata={}, id='07d6a029-2d3c-4728-b6c0-69b60c8d6a65'),\n",
       "  HumanMessage(content=\" Sure, what's your question or request?\", additional_kwargs={}, response_metadata={}, id='e3d9ffe1-fec1-401e-b522-0516d51a807f'),\n",
       "  HumanMessage(content='What is my name', additional_kwargs={}, response_metadata={}, id='bc58ec8c-4696-40c3-a78e-49bad2396d97'),\n",
       "  HumanMessage(content=' Your name is Bob.', additional_kwargs={}, response_metadata={}, id='501a1ffc-5c8c-40bc-a79d-9ed4a68a28f7')]}"
      ]
     },
     "execution_count": 18,
     "metadata": {},
     "output_type": "execute_result"
    }
   ],
   "source": [
    "res"
   ]
  }
 ],
 "metadata": {
  "kernelspec": {
   "display_name": "GenAI",
   "language": "python",
   "name": "python3"
  },
  "language_info": {
   "codemirror_mode": {
    "name": "ipython",
    "version": 3
   },
   "file_extension": ".py",
   "mimetype": "text/x-python",
   "name": "python",
   "nbconvert_exporter": "python",
   "pygments_lexer": "ipython3",
   "version": "3.12.11"
  }
 },
 "nbformat": 4,
 "nbformat_minor": 5
}
