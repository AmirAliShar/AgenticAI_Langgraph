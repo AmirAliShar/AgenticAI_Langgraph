{
 "cells": [
  {
   "cell_type": "code",
   "execution_count": 37,
   "id": "f807176f",
   "metadata": {},
   "outputs": [],
   "source": [
    "#ignore the warnings\n",
    "import warnings\n",
    "warnings.filterwarnings(\"ignore\")\n",
    "\n",
    "\n",
    "from dotenv import load_dotenv\n",
    "import os\n",
    "from langchain_groq import ChatGroq\n",
    "load_dotenv()\n",
    "GROQ_API_KEY = os.environ.get(\"GROQ_API_KEY\")\n",
    "\n",
    "# Initilize the LLM\n",
    "llm =ChatGroq(model =\"llama-3.3-70b-versatile\")\n",
    "\n",
    "#Set the Cache\n",
    "from langchain_core.caches import InMemoryCache\n",
    "from langchain_core.globals import set_llm_cache\n",
    "set_llm_cache(InMemoryCache())"
   ]
  },
  {
   "cell_type": "code",
   "execution_count": null,
   "id": "f1ce6162",
   "metadata": {},
   "outputs": [],
   "source": [
    "from typing import Literal, TypedDict\n",
    "import uuid\n",
    "\n",
    "from langgraph.constants import END\n",
    "from langgraph.graph import StateGraph\n",
    "from langgraph.types import interrupt, Command\n",
    "from langgraph.checkpoint.memory import InMemorySaver\n",
    "from langchain_core.messages import SystemMessage,HumanMessage,AIMessage"
   ]
  },
  {
   "cell_type": "code",
   "execution_count": 39,
   "id": "1326f190",
   "metadata": {},
   "outputs": [],
   "source": [
    "# Define the shared graph state\n",
    "class State(TypedDict):\n",
    "    message:str\n",
    "    llm_output: str\n",
    "    feedback: str"
   ]
  },
  {
   "cell_type": "code",
   "execution_count": null,
   "id": "63082cdb",
   "metadata": {},
   "outputs": [],
   "source": [
    "# Simulate an LLM output node\n",
    "def generate_llm_output(state: State) -> State:\n",
    "\n",
    "    prompt = f\"\"\"\n",
    "You are an expert WhatsApp assistant.  \n",
    "Your task is to write a clear, polite, and professional WhatsApp reply.\n",
    "\n",
    "Guidelines:\n",
    "- Keep the response concise (under 30 words).  \n",
    "- Maintain a friendly and professional tone.  \n",
    "- If there is previous feedback, naturally incorporate it into your reply.  \n",
    "- If the user says “Hi” or “How are you?”, reply casually and conversationally.  \n",
    "- If the user asks about your availability or time, reply with: “I’m free from 11:30 PM to 12:10 AM.”  \n",
    "\n",
    "User message:\n",
    "{state[\"message\"]}\n",
    "\n",
    "Previous feedback:\n",
    "{state[\"feedback\"]}\n",
    "\"\"\"\n",
    "    response=llm.invoke([\n",
    "        SystemMessage(\"You are the helpful AI whatsapp assistant\"),\n",
    "        HumanMessage(content=prompt),\n",
    "        \n",
    "    ])\n",
    "    result=response.content\n",
    "    return {\"llm_output\": result}\n"
   ]
  },
  {
   "cell_type": "code",
   "execution_count": 41,
   "id": "3d21f2cb",
   "metadata": {},
   "outputs": [],
   "source": [
    "\n",
    "# Human approval node\n",
    "def human_approval(state: State) -> Command[Literal[\"approved_path\", \"rejected_path\"]]:\n",
    "    decision = interrupt({\n",
    "        \"question\": \"Do you approve the following output?\",\n",
    "        \"llm_output\": state[\"llm_output\"]\n",
    "    })\n",
    "\n",
    "    if decision == \"yes\":\n",
    "        return Command(goto=\"approved_path\", update={\"feedback\": \"approved\"})\n",
    "    else:\n",
    "        return Command(goto=\"rejected_path\", update={\"feedback\": \"rejected\"})"
   ]
  },
  {
   "cell_type": "code",
   "execution_count": null,
   "id": "a6d48045",
   "metadata": {},
   "outputs": [],
   "source": [
    "# Next steps after approval\n",
    "def approved_node(state: State) -> State:\n",
    "\n",
    "    print(\"✅ Approved path taken.\")\n",
    "    return {\"llm_output\":state[\"llm_output\"]}\n",
    "\n",
    "# Alternative path after rejection\n",
    "def rejected_node(state: State) -> State:\n",
    "    print(\"❌ Rejected path taken.\")\n",
    "    "
   ]
  },
  {
   "cell_type": "code",
   "execution_count": 43,
   "id": "67164b58",
   "metadata": {},
   "outputs": [],
   "source": [
    "# Build the graph\n",
    "builder = StateGraph(State)\n",
    "builder.add_node(\"generate_llm_output\", generate_llm_output)\n",
    "builder.add_node(\"human_approval\", human_approval)\n",
    "builder.add_node(\"approved_path\", approved_node)\n",
    "builder.add_node(\"rejected_path\", rejected_node)\n",
    "\n",
    "builder.set_entry_point(\"generate_llm_output\")\n",
    "builder.add_edge(\"generate_llm_output\", \"human_approval\")\n",
    "builder.add_edge(\"approved_path\", END)\n",
    "builder.add_edge(\"rejected_path\", END)\n",
    "\n",
    "checkpointer = InMemorySaver()\n",
    "graph = builder.compile(checkpointer=checkpointer)\n"
   ]
  },
  {
   "cell_type": "code",
   "execution_count": null,
   "id": "3026ee6a",
   "metadata": {},
   "outputs": [
    {
     "name": "stdout",
     "output_type": "stream",
     "text": [
      "                +-----------+                  \n",
      "                | __start__ |                  \n",
      "                +-----------+                  \n",
      "                      *                        \n",
      "                      *                        \n",
      "                      *                        \n",
      "           +---------------------+             \n",
      "           | generate_llm_output |             \n",
      "           +---------------------+             \n",
      "                      *                        \n",
      "                      *                        \n",
      "                      *                        \n",
      "              +----------------+               \n",
      "              | human_approval |               \n",
      "              +----------------+               \n",
      "               ..            ..                \n",
      "             ..                ..              \n",
      "           ..                    ..            \n",
      "+---------------+           +---------------+  \n",
      "| approved_path |           | rejected_path |  \n",
      "+---------------+           +---------------+  \n",
      "               **            **                \n",
      "                 **        **                  \n",
      "                   **    **                    \n",
      "                 +---------+                   \n",
      "                 | __end__ |                   \n",
      "                 +---------+                   \n"
     ]
    }
   ],
   "source": [
    "graph.get_graph().print_ascii()"
   ]
  },
  {
   "cell_type": "code",
   "execution_count": 44,
   "id": "3a8068f3",
   "metadata": {},
   "outputs": [
    {
     "name": "stdout",
     "output_type": "stream",
     "text": [
      "[Interrupt(value={'question': 'Do you approve the following output?', 'llm_output': 'I’m free from 11:30 PM to 12:10 AM.'}, id='2cad939fb3c664e9a8652926eb48de60')]\n",
      "✅ Approved path taken.\n",
      "{'message': 'are you free amir?', 'llm_output': 'I’m free from 11:30 PM to 12:10 AM.', 'feedback': 'approved'}\n"
     ]
    }
   ],
   "source": [
    "\n",
    "# Run until interrupt\n",
    "config = {\"configurable\": {\"thread_id\": uuid.uuid4()}}\n",
    "query=input(\"Write the message\")\n",
    "result = graph.invoke({\"message\":query,\n",
    "                       \"feedback\":\"\"\n",
    "                       }, config=config)\n",
    "print(result[\"__interrupt__\"])\n",
    "\n",
    "ask=input(\"Approve or Reject\")\n",
    "final_result = graph.invoke(Command(resume=ask), config=config)\n",
    "print(final_result)"
   ]
  },
  {
   "cell_type": "code",
   "execution_count": 46,
   "id": "afa9ea0d",
   "metadata": {},
   "outputs": [
    {
     "name": "stdout",
     "output_type": "stream",
     "text": [
      "[Interrupt(value={'question': 'Do you approve the following output?', 'llm_output': \"I'm doing great, thanks for asking!\"}, id='abe8812d74e0bce0d23a9c6004923b13')]\n",
      "✅ Approved path taken.\n",
      "{'message': 'how are you amir?', 'llm_output': \"I'm doing great, thanks for asking!\", 'feedback': 'approved'}\n"
     ]
    }
   ],
   "source": [
    "\n",
    "# Run until interrupt\n",
    "config = {\"configurable\": {\"thread_id\": uuid.uuid4()}}\n",
    "query=input(\"Write the message\")\n",
    "result = graph.invoke({\"message\":query,\n",
    "                       \"feedback\":\"\"\n",
    "                       }, config=config)\n",
    "print(result[\"__interrupt__\"])\n",
    "\n",
    "ask=input(\"Approve or Reject\")\n",
    "final_result = graph.invoke(Command(resume=ask), config=config)\n",
    "print(final_result)"
   ]
  }
 ],
 "metadata": {
  "kernelspec": {
   "display_name": "GenAI",
   "language": "python",
   "name": "python3"
  },
  "language_info": {
   "codemirror_mode": {
    "name": "ipython",
    "version": 3
   },
   "file_extension": ".py",
   "mimetype": "text/x-python",
   "name": "python",
   "nbconvert_exporter": "python",
   "pygments_lexer": "ipython3",
   "version": "3.12.11"
  }
 },
 "nbformat": 4,
 "nbformat_minor": 5
}
