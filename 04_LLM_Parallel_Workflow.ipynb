{
 "cells": [
  {
   "cell_type": "code",
   "execution_count": 9,
   "id": "3e8130e4",
   "metadata": {},
   "outputs": [],
   "source": [
    "from dotenv import load_dotenv\n",
    "import os\n",
    "from langchain_groq import ChatGroq\n",
    "load_dotenv()\n",
    "GROQ_API_KEY=os.environ.get(\"GROQ_API_KEY\")\n",
    "\n",
    "TRACELOOP_API_KEY= os.environ.get(\"TRACELOOP_API_KEY\")\n",
    "\n",
    "llm =ChatGroq(model =\"llama-3.3-70b-versatile\")\n",
    "\n",
    "# Set inmemory llm cache\n",
    "from langchain_core.globals import set_llm_cache\n",
    "from langchain_core.caches import InMemoryCache\n",
    "set_llm_cache(InMemoryCache())"
   ]
  },
  {
   "cell_type": "code",
   "execution_count": 10,
   "id": "0b805a27",
   "metadata": {},
   "outputs": [],
   "source": [
    "#!pip install traceloop-sdk"
   ]
  },
  {
   "cell_type": "code",
   "execution_count": 11,
   "id": "4e4ef8bd",
   "metadata": {},
   "outputs": [
    {
     "name": "stdout",
     "output_type": "stream",
     "text": [
      "\u001b[32mTraceloop exporting traces to https://api.traceloop.com authenticating with bearer token\n",
      "\u001b[39m\n"
     ]
    },
    {
     "data": {
      "text/plain": [
       "<traceloop.sdk.client.client.Client at 0x1d7aa1bdf10>"
      ]
     },
     "execution_count": 11,
     "metadata": {},
     "output_type": "execute_result"
    }
   ],
   "source": [
    "# Reace the project by \n",
    "from traceloop.sdk import Traceloop\n",
    "from traceloop.sdk.decorators import workflow\n",
    "\n",
    "\n",
    "from traceloop.sdk import Traceloop\n",
    "\n",
    "Traceloop.init(app_name=\"Langgraph-Parallel\")\n",
    "\n"
   ]
  },
  {
   "cell_type": "code",
   "execution_count": 12,
   "id": "3010b757",
   "metadata": {},
   "outputs": [],
   "source": [
    "# Define the schema\n",
    "\n",
    "from pydantic import BaseModel,Field\n",
    "from typing import TypedDict,Literal\n",
    "\n",
    "class Evaluation(BaseModel):\n",
    "    feedback:str = Field(description =\"Detailed feedback for eassy\")\n",
    "    score: int = Field(description=\"Score out of 10\",ge=0,le=10)\n",
    "    AIChecker :Literal[\"AIGenerate\",\"HumanWritten\"]"
   ]
  },
  {
   "cell_type": "code",
   "execution_count": 13,
   "id": "81a673bc",
   "metadata": {},
   "outputs": [],
   "source": [
    "model=llm.with_structured_output(Evaluation)"
   ]
  },
  {
   "cell_type": "code",
   "execution_count": 14,
   "id": "5be30937",
   "metadata": {},
   "outputs": [],
   "source": [
    "eassy=\"\"\"**The Rise of Agentic AI in the World**\n",
    "\n",
    "Artificial Intelligence (AI) has become an integral part of our daily lives, transforming the way we work, communicate, and interact with one another. From virtual assistants like Siri and Alexa to self-driving cars and personalized product recommendations, AI is increasingly pervasive in our world. However, a new and more advanced form of AI is emerging, known as Agentic AI. This type of AI is characterized by its autonomy, self-awareness, and decision-making capabilities, which enable it to operate independently and make choices based on data and goals. In this blog, we will explore the rise of Agentic AI, its applications, benefits, challenges, and future implications.\n",
    "\n",
    "**What is Agentic AI?**\n",
    "\n",
    "Agentic AI refers to a type of artificial intelligence that possesses autonomy, self-awareness, and decision-making capabilities. Autonomy enables Agentic AI systems to operate independently, without human intervention, and make decisions based on their own goals and objectives. Self-awareness allows these systems to understand their own capabilities and limitations, enabling them to adapt and learn from their experiences. Decision-making capabilities enable Agentic AI systems to make choices based on data and goals, often in real-time.\n",
    "\n",
    "Examples of Agentic AI systems include autonomous vehicles, personal assistants like Alexa and Google Assistant, and expert systems like IBM Watson Health. These systems are capable of operating independently, making decisions, and learning from their experiences, which enables them to improve their performance over time.\n",
    "\n",
    "**Applications of Agentic AI**\n",
    "\n",
    "Agentic AI is being applied in a wide range of industries and domains, including healthcare, finance, transportation, and education. In healthcare, Agentic AI is being used to develop personalized medicine, improve patient care, and conduct medical research. For example, IBM Watson Health is using Agentic AI to analyze medical data and provide personalized treatment recommendations to doctors and patients.\n",
    "\n",
    "In finance, Agentic AI is being used to manage portfolios, analyze risk, and make trading decisions. For example, hedge funds and investment banks are using Agentic AI to analyze market data and make predictions about future market trends.\n",
    "\n",
    "In transportation, Agentic AI is being used to develop autonomous vehicles, manage traffic flow, and optimize logistics. For example, Google's Self-Driving Car Project is using Agentic AI to develop autonomous vehicles that can navigate roads and traffic safely and efficiently.\n",
    "\n",
    "In education, Agentic AI is being used to develop personalized learning systems, adaptive assessments, and intelligent tutoring systems. For example, online learning platforms like Coursera and Udacity are using Agentic AI to provide personalized learning recommendations to students and improve their learning outcomes.\n",
    "\n",
    "**Benefits of Agentic AI**\n",
    "\n",
    "The benefits of Agentic AI are numerous and significant. One of the primary benefits is increased efficiency and productivity, as Agentic AI systems can operate independently and make decisions in real-time. This enables businesses and organizations to automate many tasks and processes, freeing up human resources for more strategic and creative work.\n",
    "\n",
    "Another benefit of Agentic AI is improved accuracy and decision-making. Agentic AI systems can analyze large amounts of data and make predictions and decisions based on that data, often with greater accuracy and speed than humans.\n",
    "\n",
    "Agentic AI also enables enhanced customer experience and personalization. For example, virtual assistants like Alexa and Google Assistant can provide personalized recommendations and services to customers, based on their preferences and behavior.\n",
    "\n",
    "Finally, Agentic AI has the potential to bring about significant cost savings and revenue growth. By automating tasks and processes, businesses and organizations can reduce their costs and improve their profitability. Additionally, Agentic AI can enable new business models and revenue streams, such as personalized medicine and autonomous transportation services.\n",
    "\n",
    "**Challenges and Concerns**\n",
    "\n",
    "While Agentic AI has many benefits, it also raises several challenges and concerns. One of the primary concerns is job displacement and unemployment, as Agentic AI systems automate many tasks and processes that were previously performed by humans.\n",
    "\n",
    "Another concern is bias and discrimination in AI decision-making. Agentic AI systems can perpetuate and amplify existing biases and discrimination, if they are trained on biased data or designed with a particular worldview.\n",
    "\n",
    "Cybersecurity risks and potential AI-powered attacks are also a concern. Agentic AI systems can be vulnerable to cyber attacks, which can compromise their autonomy and decision-making capabilities.\n",
    "\n",
    "Finally, there are ethical considerations and accountability concerns surrounding Agentic AI. As Agentic AI systems make decisions and take actions, there is a need to ensure that they are aligned with human values and ethics.\n",
    "\n",
    "**Future of Agentic AI**\n",
    "\n",
    "The future of Agentic AI is exciting and rapidly evolving. Emerging trends and technologies, such as edge AI and explainable AI, are enabling new applications and innovations. For example, edge AI enables Agentic AI systems to operate at the edge of the network, closer to the data and devices, which can improve their performance and efficiency.\n",
    "\n",
    "The integration of Agentic AI with other technologies, such as IoT and blockchain, is also enabling new applications and innovations. For example, Agentic AI can be used to analyze data from IoT devices and make predictions and decisions based on that data.\n",
    "\n",
    "The development of more advanced autonomous systems, such as autonomous vehicles and drones, is also a key area of research and innovation. These systems have the potential to transform industries and domains, such as transportation and logistics.\n",
    "\n",
    "**Conclusion**\n",
    "\n",
    "In conclusion, the rise of Agentic AI is transforming the world, bringing about significant benefits and challenges that need to be addressed. As Agentic AI systems become more pervasive and autonomous, there is a need to ensure that they are aligned with human values and ethics. The future of Agentic AI is exciting and rapidly evolving, with emerging trends and technologies enabling new applications and innovations. However, there is also a need for ongoing research and development to address the challenges and concerns surrounding Agentic AI, and to ensure that these technologies are developed and deployed responsibly.\n",
    "As we move forward in this new era of Agentic AI, it is essential to consider the potential benefits and challenges of these technologies, and to work towards ensuring that they are developed and deployed in a way that benefits humanity as a whole. By doing so, we can unlock the full potential of Agentic AI and create a brighter, more prosperous future for all.\"\"\""
   ]
  },
  {
   "cell_type": "code",
   "execution_count": 15,
   "id": "6fd59682",
   "metadata": {},
   "outputs": [],
   "source": [
    "prompt =f\"Evaluate the langugage quality of the following eassy ,provide the feedback and assign the score out of 10 {eassy} \""
   ]
  },
  {
   "cell_type": "code",
   "execution_count": 16,
   "id": "71c7332c",
   "metadata": {},
   "outputs": [
    {
     "data": {
      "text/plain": [
       "8"
      ]
     },
     "execution_count": 16,
     "metadata": {},
     "output_type": "execute_result"
    }
   ],
   "source": [
    "result=model.invoke(prompt)\n",
    "result.score"
   ]
  },
  {
   "cell_type": "code",
   "execution_count": 17,
   "id": "ec3adb40",
   "metadata": {},
   "outputs": [],
   "source": [
    "#Make the state\n",
    "from typing import TypedDict\n",
    "import operator\n",
    "from typing_extensions import Annotated\n",
    "\n",
    "class State(TypedDict):\n",
    "    eassy: str\n",
    "    languageFeedback:str\n",
    "    AnalysisFeedback:str\n",
    "    ClarityFeedback: str\n",
    "    OverallFeedback :str\n",
    "    IndividualScore :Annotated[list[int],operator.add]\n",
    "    AverageScore    :float\n",
    "    AIChecker :Literal[\"AIGenerate\",\"HumanWritten\"]"
   ]
  },
  {
   "cell_type": "code",
   "execution_count": 18,
   "id": "d5029f56",
   "metadata": {},
   "outputs": [],
   "source": [
    "#Evaluation of Langugage\n",
    "@workflow(name=\"joke_creation\")\n",
    "def Language(state:State) -> State:\n",
    "\n",
    "    prompt =f\"Evaluate the langugage quality of the following eassy ,provide the feedback and assign the score out of 10 {eassy} \"\n",
    "\n",
    "    output =model.invoke(prompt)\n",
    "\n",
    "    return {\"languageFeedback\":output.feedback,\"IndividualScore\":[output.score]}"
   ]
  },
  {
   "cell_type": "code",
   "execution_count": 19,
   "id": "0773bbc5",
   "metadata": {},
   "outputs": [],
   "source": [
    "#Evaluation of Analysis\n",
    "@workflow(name=\"joke_creation\")\n",
    "def Analysis(state:State) -> State:\n",
    "\n",
    "    prompt =f\"Evaluate the depth of analysis quality of the following eassy ,provide the feedback and assign the score out of 10 {eassy} \"\n",
    "\n",
    "    output =model.invoke(prompt)\n",
    "\n",
    "    return {\"AnalysisFeedback\":output.feedback,\"IndividualScore\":[output.score]}"
   ]
  },
  {
   "cell_type": "code",
   "execution_count": 20,
   "id": "85a66418",
   "metadata": {},
   "outputs": [],
   "source": [
    "#Evaluation of Clarity of thought\n",
    "@workflow(name=\"joke_creation\")\n",
    "def Thought(state:State) -> State:\n",
    "\n",
    "    prompt =f\"Evaluate the clarity of Thought quality of the following eassy ,provide the feedback and assign the score out of 10 {eassy} \"\n",
    "\n",
    "    output =model.invoke(prompt)\n",
    "\n",
    "    return {\"ClarityFeedback\":output.feedback,\"IndividualScore\":[output.score]}"
   ]
  },
  {
   "cell_type": "code",
   "execution_count": 21,
   "id": "bd790e39",
   "metadata": {},
   "outputs": [],
   "source": [
    "@workflow(name=\"joke_creation\")\n",
    "def Final(state : State) -> State:\n",
    "    #Summary feedback\n",
    "    prompt =f\"Based on the following feedbacks create the summarized feedback \\n language Feedback - {state[\"languageFeedback\"]},\\n Depth of Analysis feedback{state['AnalysisFeedback']},\\n Clarity of thought feedback {state['ClarityFeedback']} \"\n",
    "    response =llm.invoke(prompt).content\n",
    "\n",
    "    human =f\"Based on the following eassy to check it is human written or AI generated Content \\n eassy - {eassy} \"\n",
    "\n",
    "    AI_checker =llm.invoke(human).content\n",
    "\n",
    "\n",
    "    #Average calculate\n",
    "    average_score=sum(state[\"IndividualScore\"]) / len(state[\"IndividualScore\"])\n",
    "\n",
    "    average_score=round(average_score,2)\n",
    "    #Return the partial state\n",
    "    return {\"OverallFeedback\":response,\"AIChecker\":AI_checker,\"AverageScore\":average_score}\n",
    "    "
   ]
  },
  {
   "cell_type": "code",
   "execution_count": 22,
   "id": "3cfef1cf",
   "metadata": {},
   "outputs": [],
   "source": [
    "# Build the workflow\n",
    "from langgraph.graph import StateGraph,START,END\n",
    "workflow =StateGraph(State)"
   ]
  },
  {
   "cell_type": "code",
   "execution_count": 23,
   "id": "57272e82",
   "metadata": {},
   "outputs": [],
   "source": [
    "\n",
    "#Add the Nodes\n",
    "workflow.add_node(\"evaluateLanguage\",Language)\n",
    "workflow.add_node(\"EvaluateAnalysis\",Analysis)\n",
    "workflow.add_node(\"EvaluateThought\",Thought)\n",
    "workflow.add_node(\"FinalEvaluation\",Final)\n",
    "\n",
    "# Add the edges\n",
    "workflow.add_edge(START,\"evaluateLanguage\")\n",
    "workflow.add_edge(START,\"EvaluateAnalysis\")\n",
    "workflow.add_edge(START, \"EvaluateThought\")\n",
    "\n",
    "workflow.add_edge(\"evaluateLanguage\",\"FinalEvaluation\")\n",
    "workflow.add_edge(\"EvaluateAnalysis\",\"FinalEvaluation\")\n",
    "workflow.add_edge(\"EvaluateThought\",\"FinalEvaluation\")\n",
    "\n",
    "\n",
    "workflow.add_edge(\"FinalEvaluation\",END)\n",
    "#Compile the workflow\n",
    "graph=workflow.compile()"
   ]
  },
  {
   "cell_type": "code",
   "execution_count": 24,
   "id": "a2c98c50",
   "metadata": {},
   "outputs": [
    {
     "data": {
      "image/png": "[encoded data removed]",
      "text/plain": [
       "<langgraph.graph.state.CompiledStateGraph object at 0x000001D7AA3B0F50>"
      ]
     },
     "execution_count": 24,
     "metadata": {},
     "output_type": "execute_result"
    }
   ],
   "source": [
    "graph"
   ]
  },
  {
   "cell_type": "code",
   "execution_count": 25,
   "id": "be333fe6",
   "metadata": {},
   "outputs": [
    {
     "data": {
      "text/plain": [
       "{'eassy': \"**The Rise of Agentic AI in the World**\\n\\nArtificial Intelligence (AI) has become an integral part of our daily lives, transforming the way we work, communicate, and interact with one another. From virtual assistants like Siri and Alexa to self-driving cars and personalized product recommendations, AI is increasingly pervasive in our world. However, a new and more advanced form of AI is emerging, known as Agentic AI. This type of AI is characterized by its autonomy, self-awareness, and decision-making capabilities, which enable it to operate independently and make choices based on data and goals. In this blog, we will explore the rise of Agentic AI, its applications, benefits, challenges, and future implications.\\n\\n**What is Agentic AI?**\\n\\nAgentic AI refers to a type of artificial intelligence that possesses autonomy, self-awareness, and decision-making capabilities. Autonomy enables Agentic AI systems to operate independently, without human intervention, and make decisions based on their own goals and objectives. Self-awareness allows these systems to understand their own capabilities and limitations, enabling them to adapt and learn from their experiences. Decision-making capabilities enable Agentic AI systems to make choices based on data and goals, often in real-time.\\n\\nExamples of Agentic AI systems include autonomous vehicles, personal assistants like Alexa and Google Assistant, and expert systems like IBM Watson Health. These systems are capable of operating independently, making decisions, and learning from their experiences, which enables them to improve their performance over time.\\n\\n**Applications of Agentic AI**\\n\\nAgentic AI is being applied in a wide range of industries and domains, including healthcare, finance, transportation, and education. In healthcare, Agentic AI is being used to develop personalized medicine, improve patient care, and conduct medical research. For example, IBM Watson Health is using Agentic AI to analyze medical data and provide personalized treatment recommendations to doctors and patients.\\n\\nIn finance, Agentic AI is being used to manage portfolios, analyze risk, and make trading decisions. For example, hedge funds and investment banks are using Agentic AI to analyze market data and make predictions about future market trends.\\n\\nIn transportation, Agentic AI is being used to develop autonomous vehicles, manage traffic flow, and optimize logistics. For example, Google's Self-Driving Car Project is using Agentic AI to develop autonomous vehicles that can navigate roads and traffic safely and efficiently.\\n\\nIn education, Agentic AI is being used to develop personalized learning systems, adaptive assessments, and intelligent tutoring systems. For example, online learning platforms like Coursera and Udacity are using Agentic AI to provide personalized learning recommendations to students and improve their learning outcomes.\\n\\n**Benefits of Agentic AI**\\n\\nThe benefits of Agentic AI are numerous and significant. One of the primary benefits is increased efficiency and productivity, as Agentic AI systems can operate independently and make decisions in real-time. This enables businesses and organizations to automate many tasks and processes, freeing up human resources for more strategic and creative work.\\n\\nAnother benefit of Agentic AI is improved accuracy and decision-making. Agentic AI systems can analyze large amounts of data and make predictions and decisions based on that data, often with greater accuracy and speed than humans.\\n\\nAgentic AI also enables enhanced customer experience and personalization. For example, virtual assistants like Alexa and Google Assistant can provide personalized recommendations and services to customers, based on their preferences and behavior.\\n\\nFinally, Agentic AI has the potential to bring about significant cost savings and revenue growth. By automating tasks and processes, businesses and organizations can reduce their costs and improve their profitability. Additionally, Agentic AI can enable new business models and revenue streams, such as personalized medicine and autonomous transportation services.\\n\\n**Challenges and Concerns**\\n\\nWhile Agentic AI has many benefits, it also raises several challenges and concerns. One of the primary concerns is job displacement and unemployment, as Agentic AI systems automate many tasks and processes that were previously performed by humans.\\n\\nAnother concern is bias and discrimination in AI decision-making. Agentic AI systems can perpetuate and amplify existing biases and discrimination, if they are trained on biased data or designed with a particular worldview.\\n\\nCybersecurity risks and potential AI-powered attacks are also a concern. Agentic AI systems can be vulnerable to cyber attacks, which can compromise their autonomy and decision-making capabilities.\\n\\nFinally, there are ethical considerations and accountability concerns surrounding Agentic AI. As Agentic AI systems make decisions and take actions, there is a need to ensure that they are aligned with human values and ethics.\\n\\n**Future of Agentic AI**\\n\\nThe future of Agentic AI is exciting and rapidly evolving. Emerging trends and technologies, such as edge AI and explainable AI, are enabling new applications and innovations. For example, edge AI enables Agentic AI systems to operate at the edge of the network, closer to the data and devices, which can improve their performance and efficiency.\\n\\nThe integration of Agentic AI with other technologies, such as IoT and blockchain, is also enabling new applications and innovations. For example, Agentic AI can be used to analyze data from IoT devices and make predictions and decisions based on that data.\\n\\nThe development of more advanced autonomous systems, such as autonomous vehicles and drones, is also a key area of research and innovation. These systems have the potential to transform industries and domains, such as transportation and logistics.\\n\\n**Conclusion**\\n\\nIn conclusion, the rise of Agentic AI is transforming the world, bringing about significant benefits and challenges that need to be addressed. As Agentic AI systems become more pervasive and autonomous, there is a need to ensure that they are aligned with human values and ethics. The future of Agentic AI is exciting and rapidly evolving, with emerging trends and technologies enabling new applications and innovations. However, there is also a need for ongoing research and development to address the challenges and concerns surrounding Agentic AI, and to ensure that these technologies are developed and deployed responsibly.\\nAs we move forward in this new era of Agentic AI, it is essential to consider the potential benefits and challenges of these technologies, and to work towards ensuring that they are developed and deployed in a way that benefits humanity as a whole. By doing so, we can unlock the full potential of Agentic AI and create a brighter, more prosperous future for all.\",\n",
       " 'languageFeedback': 'The essay is well-structured and provides a comprehensive overview of Agentic AI, its applications, benefits, and challenges. The language is clear and concise, making it easy to understand for a general audience. However, there are some areas that could be improved, such as providing more specific examples and case studies to illustrate the points being made. Additionally, some of the paragraphs could be broken up to improve the flow and readability of the essay. Overall, the essay demonstrates a good understanding of the topic and provides a thorough analysis of the subject.',\n",
       " 'AnalysisFeedback': 'The essay provides a comprehensive overview of Agentic AI, its applications, benefits, and challenges. The writer demonstrates a clear understanding of the topic and provides relevant examples to support their arguments. However, the essay could benefit from more in-depth analysis and critical thinking. The writer primarily presents a neutral, informative perspective, without fully exploring the complexities and nuances of Agentic AI. Additionally, the essay could be improved with more attention to transitions and sentence structure, as some paragraphs feel disconnected and sentences are sometimes wordy or repetitive.',\n",
       " 'ClarityFeedback': 'The essay provides a clear and comprehensive overview of Agentic AI, its applications, benefits, and challenges. The writing is well-structured and easy to follow, with each section flowing logically into the next. The author provides numerous examples and illustrations to support their points, making the topic more accessible and engaging for the reader. However, there are some areas where the writing could be improved, such as providing more nuanced and in-depth analysis of the challenges and concerns surrounding Agentic AI. Additionally, some of the paragraphs could be more concise and to the point, as they tend to be a bit lengthy and repetitive at times. Overall, the essay demonstrates a good understanding of the topic and effectively communicates the key points to the reader.',\n",
       " 'OverallFeedback': 'Here is a summarized feedback:\\n\\n**Overall Strengths:**\\n\\n* The essay is well-structured and provides a comprehensive overview of Agentic AI, its applications, benefits, and challenges.\\n* The language is clear and concise, making it easy to understand for a general audience.\\n* The writer demonstrates a good understanding of the topic and provides relevant examples to support their arguments.\\n\\n**Areas for Improvement:**\\n\\n* Provide more specific examples and case studies to illustrate points being made.\\n* Break up long paragraphs to improve flow and readability.\\n* Conduct more in-depth analysis and critical thinking to explore complexities and nuances of Agentic AI.\\n* Improve transitions and sentence structure to avoid disconnected paragraphs and wordy or repetitive sentences.\\n* Provide more nuanced analysis of challenges and concerns surrounding Agentic AI.\\n* Edit paragraphs to be more concise and to the point, avoiding lengthiness and repetition.\\n\\nBy addressing these areas, the essay can become even more effective in communicating the key points and providing a thorough analysis of Agentic AI.',\n",
       " 'IndividualScore': [8, 8, 8],\n",
       " 'AverageScore': 8.0,\n",
       " 'AIChecker': 'After analyzing the essay, I would say that it is likely **AI-generated content**. Here\\'s why:\\n\\n1. **Overly formal and structured tone**: The essay follows a very formal and structured format, which is typical of AI-generated content. The language is polished, and the transitions between paragraphs are smooth, but it lacks the personality and nuance that a human writer would bring to the text.\\n2. **Repetitive and formulaic sentence structure**: Many of the sentences follow a similar structure, which is a common trait of AI-generated content. The sentences are often long and convoluted, with multiple clauses, which can make them sound overly formal and artificial.\\n3. **Overuse of buzzwords and trendy terms**: The essay is filled with buzzwords like \"Agentic AI,\" \"autonomy,\" \"self-awareness,\" and \"edge AI,\" which are currently popular in the tech industry. While these terms are relevant to the topic, their overuse suggests that the author is trying to sound knowledgeable rather than genuinely exploring the subject.\\n4. **Lack of concrete examples and anecdotes**: Unlike human-written essays, which often include personal anecdotes, examples, or metaphors to illustrate a point, this essay relies heavily on abstract concepts and hypothetical scenarios. This makes the text feel more like a theoretical treatise than a engaging essay.\\n5. **Overly broad and general statements**: The essay makes sweeping statements about the benefits and challenges of Agentic AI, without providing specific, concrete examples or evidence to support these claims. This lack of nuance and specificity is another characteristic of AI-generated content.\\n6. **No clear authorial voice or perspective**: The essay lacks a distinct authorial voice or perspective, which is unusual for a human-written essay. The text reads like a neutral, informative article, rather than a personal reflection or argument.\\n7. **Grammar and syntax are nearly flawless**: While this might seem like a positive trait, it\\'s actually a red flag for AI-generated content. Human writers often make minor errors in grammar, punctuation, or syntax, which can make their writing more relatable and authentic.\\n\\nThat being said, it\\'s not impossible that a human writer could produce an essay with these characteristics. However, based on the evidence, I would guess that this essay is likely the product of an AI content generation tool.'}"
      ]
     },
     "execution_count": 25,
     "metadata": {},
     "output_type": "execute_result"
    }
   ],
   "source": [
    "# Excute the graph\n",
    "\n",
    "initial_state ={\"eassy\":eassy}\n",
    "\n",
    "result=graph.invoke(initial_state)\n",
    "\n",
    "result"
   ]
  },
  {
   "cell_type": "code",
   "execution_count": 26,
   "id": "519a1287",
   "metadata": {},
   "outputs": [
    {
     "name": "stdout",
     "output_type": "stream",
     "text": [
      "Here is a summarized feedback:\n",
      "\n",
      "**Overall Strengths:**\n",
      "\n",
      "* The essay is well-structured and provides a comprehensive overview of Agentic AI, its applications, benefits, and challenges.\n",
      "* The language is clear and concise, making it easy to understand for a general audience.\n",
      "* The writer demonstrates a good understanding of the topic and provides relevant examples to support their arguments.\n",
      "\n",
      "**Areas for Improvement:**\n",
      "\n",
      "* Provide more specific examples and case studies to illustrate points being made.\n",
      "* Break up long paragraphs to improve flow and readability.\n",
      "* Conduct more in-depth analysis and critical thinking to explore complexities and nuances of Agentic AI.\n",
      "* Improve transitions and sentence structure to avoid disconnected paragraphs and wordy or repetitive sentences.\n",
      "* Provide more nuanced analysis of challenges and concerns surrounding Agentic AI.\n",
      "* Edit paragraphs to be more concise and to the point, avoiding lengthiness and repetition.\n",
      "\n",
      "By addressing these areas, the essay can become even more effective in communicating the key points and providing a thorough analysis of Agentic AI.\n"
     ]
    }
   ],
   "source": [
    "print(result['OverallFeedback'])"
   ]
  },
  {
   "cell_type": "code",
   "execution_count": 28,
   "id": "3fc823bc",
   "metadata": {},
   "outputs": [
    {
     "name": "stdout",
     "output_type": "stream",
     "text": [
      "After analyzing the essay, I would say that it is likely **AI-generated content**. Here's why:\n",
      "\n",
      "1. **Overly formal and structured tone**: The essay follows a very formal and structured format, which is typical of AI-generated content. The language is polished, and the transitions between paragraphs are smooth, but it lacks the personality and nuance that a human writer would bring to the text.\n",
      "2. **Repetitive and formulaic sentence structure**: Many of the sentences follow a similar structure, which is a common trait of AI-generated content. The sentences are often long and convoluted, with multiple clauses, which can make them sound overly formal and artificial.\n",
      "3. **Overuse of buzzwords and trendy terms**: The essay is filled with buzzwords like \"Agentic AI,\" \"autonomy,\" \"self-awareness,\" and \"edge AI,\" which are currently popular in the tech industry. While these terms are relevant to the topic, their overuse suggests that the author is trying to sound knowledgeable rather than genuinely exploring the subject.\n",
      "4. **Lack of concrete examples and anecdotes**: Unlike human-written essays, which often include personal anecdotes, examples, or metaphors to illustrate a point, this essay relies heavily on abstract concepts and hypothetical scenarios. This makes the text feel more like a theoretical treatise than a engaging essay.\n",
      "5. **Overly broad and general statements**: The essay makes sweeping statements about the benefits and challenges of Agentic AI, without providing specific, concrete examples or evidence to support these claims. This lack of nuance and specificity is another characteristic of AI-generated content.\n",
      "6. **No clear authorial voice or perspective**: The essay lacks a distinct authorial voice or perspective, which is unusual for a human-written essay. The text reads like a neutral, informative article, rather than a personal reflection or argument.\n",
      "7. **Grammar and syntax are nearly flawless**: While this might seem like a positive trait, it's actually a red flag for AI-generated content. Human writers often make minor errors in grammar, punctuation, or syntax, which can make their writing more relatable and authentic.\n",
      "\n",
      "That being said, it's not impossible that a human writer could produce an essay with these characteristics. However, based on the evidence, I would guess that this essay is likely the product of an AI content generation tool.\n"
     ]
    }
   ],
   "source": [
    "print(result['AIChecker'])"
   ]
  },
  {
   "cell_type": "code",
   "execution_count": null,
   "id": "f7fad307",
   "metadata": {},
   "outputs": [],
   "source": []
  }
 ],
 "metadata": {
  "kernelspec": {
   "display_name": "base",
   "language": "python",
   "name": "python3"
  },
  "language_info": {
   "codemirror_mode": {
    "name": "ipython",
    "version": 3
   },
   "file_extension": ".py",
   "mimetype": "text/x-python",
   "name": "python",
   "nbconvert_exporter": "python",
   "pygments_lexer": "ipython3",
   "version": "3.12.7"
  }
 },
 "nbformat": 4,
 "nbformat_minor": 5
}
