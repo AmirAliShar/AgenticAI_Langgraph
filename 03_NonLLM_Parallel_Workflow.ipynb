{
 "cells": [
  {
   "cell_type": "code",
   "execution_count": null,
   "id": "812f845c",
   "metadata": {},
   "outputs": [],
   "source": [
    "from typing import TypedDict\n",
    "\n",
    "class BMState(TypedDict):\n",
    "    #input Fields\n",
    "    runs:int\n",
    "    balls:int\n",
    "    fours:int\n",
    "    sixes:int\n",
    "\n",
    "    #Calculated Fields\n",
    "    STR:float\n",
    "    ballsPB:float\n",
    "    boundary_per:float\n",
    "\n",
    "    #Summary Field\n",
    "    summary:str"
   ]
  },
  {
   "cell_type": "code",
   "execution_count": 33,
   "id": "c9ee2a19",
   "metadata": {},
   "outputs": [],
   "source": [
    "# Strike Rate\n",
    "\n",
    "def StrikeRate(state:BMState) -> BMState:\n",
    "\n",
    "    STR=(state[\"runs\"]/(state['balls'])) * 100\n",
    "\n",
    "    return {\"STR\":STR} #Partial Update and you can not full update in the parallel workflow\n",
    "\n",
    "    #update complete state (the STR) You can Face the error\n",
    "    # state[\"STR\"]=STR\n",
    "    # return state \n",
    "    \"\"\"If you return direct the State then you will return this error \n",
    "       InvalidUpdateError: At key 'runs': Can receive only one value per step.\n",
    "      Use an Annotated key to handle multiple values.\"\"\""
   ]
  },
  {
   "cell_type": "code",
   "execution_count": 34,
   "id": "81486697",
   "metadata": {},
   "outputs": [],
   "source": [
    "#Calculate the balls per boundry\n",
    "\n",
    "def bpb(state:BMState)-> BMState:\n",
    "    bpb=(state['balls']) / ((state[\"fours\"]) + (state[\"sixes\"]))\n",
    "\n",
    "    return {\"ballsPB\":bpb}"
   ]
  },
  {
   "cell_type": "code",
   "execution_count": 35,
   "id": "c1f30efb",
   "metadata": {},
   "outputs": [],
   "source": [
    "#Calcualte the boundary percentage\n",
    "\n",
    "def boundry_percentage(state:BMState) -> BMState:\n",
    "    percentage =(((state[\"fours\"] * 4) + (state[\"sixes\"]*6))/(state[\"runs\"])) * 100\n",
    "\n",
    "#Partital update\n",
    "    return {\"boundary_per\":percentage}"
   ]
  },
  {
   "cell_type": "code",
   "execution_count": 36,
   "id": "a3735abf",
   "metadata": {},
   "outputs": [],
   "source": [
    "#Generate the summary\n",
    "\n",
    "def summary(state:BMState) -> BMState:\n",
    "\n",
    "    summary=f\"\"\"\n",
    "        Total Runs {state[\"runs\"]}\n",
    "        Total Balls Played {state[\"balls\"]}\n",
    "        Totlal Runs {state['runs']} \n",
    "        Total Fours(4s) {state['fours']}  \n",
    "        Total Sixes(6s) {state['sixes']} \n",
    "        Strike Rate {round(state[\"STR\"],2)} \n",
    "        Boundry per ball {round(state[\"ballsPB\"],2)} \n",
    "        Boundry percentage {round(state[\"boundary_per\"],2)} %\n",
    "            \n",
    "            \"\"\"\n",
    "    #Partial update the state\n",
    "    return {\"summary\":summary}\n"
   ]
  },
  {
   "cell_type": "code",
   "execution_count": 37,
   "id": "9fc983e7",
   "metadata": {},
   "outputs": [],
   "source": [
    "from langgraph.graph import StateGraph,START,END\n",
    "\n",
    "workflow=StateGraph(BMState)"
   ]
  },
  {
   "cell_type": "code",
   "execution_count": 38,
   "id": "d8ef815c",
   "metadata": {},
   "outputs": [],
   "source": [
    "# Add the nodes \n",
    "workflow.add_node(\"StrikeRate\",StrikeRate)\n",
    "workflow.add_node(\"BallPerBoundry\",bpb)\n",
    "workflow.add_node(\"BoundryPercentage\",boundry_percentage)\n",
    "workflow.add_node(\"Summary\",summary)\n",
    "\n",
    "# Add the edges\n",
    "workflow.add_edge(START,\"StrikeRate\")\n",
    "workflow.add_edge(START,\"BallPerBoundry\")\n",
    "workflow.add_edge(START,\"BoundryPercentage\")\n",
    "\n",
    "workflow.add_edge(\"StrikeRate\",\"Summary\")\n",
    "workflow.add_edge(\"BallPerBoundry\",\"Summary\")\n",
    "workflow.add_edge(\"BoundryPercentage\",\"Summary\")\n",
    "\n",
    "workflow.add_edge(\"Summary\",END)\n",
    "\n",
    "# Compile the workflow\n",
    "graph =workflow.compile()"
   ]
  },
  {
   "cell_type": "code",
   "execution_count": 39,
   "id": "e261bda4",
   "metadata": {},
   "outputs": [
    {
     "data": {
      "image/png": "[encoded data removed]",
      "text/plain": [
       "<langgraph.graph.state.CompiledStateGraph object at 0x000001F627EFF860>"
      ]
     },
     "execution_count": 39,
     "metadata": {},
     "output_type": "execute_result"
    }
   ],
   "source": [
    "graph"
   ]
  },
  {
   "cell_type": "code",
   "execution_count": 40,
   "id": "63ccba2b",
   "metadata": {},
   "outputs": [],
   "source": [
    "#Execute the Graph\n",
    "\n",
    "inputs ={\"runs\":100,\n",
    "         \"balls\":50,\n",
    "         \"fours\":4,\n",
    "         \"sixes\":6}\n",
    "\n",
    "result = graph.invoke(inputs)"
   ]
  },
  {
   "cell_type": "code",
   "execution_count": 41,
   "id": "b9e6f06f",
   "metadata": {},
   "outputs": [
    {
     "name": "stdout",
     "output_type": "stream",
     "text": [
      "\n",
      "        Total Runs 100\n",
      "        Total Balls Played 50\n",
      "        Totlal Runs 100 \n",
      "        Total Fours(4s) 4  \n",
      "        Total Sixes(6s) 6 \n",
      "        Strike Rate 200.0 \n",
      "        Boundry per ball 5.0 \n",
      "        Boundry percentage 52.0 %\n",
      "            \n",
      "            \n"
     ]
    }
   ],
   "source": [
    "print(result[\"summary\"])"
   ]
  }
 ],
 "metadata": {
  "kernelspec": {
   "display_name": "base",
   "language": "python",
   "name": "python3"
  },
  "language_info": {
   "codemirror_mode": {
    "name": "ipython",
    "version": 3
   },
   "file_extension": ".py",
   "mimetype": "text/x-python",
   "name": "python",
   "nbconvert_exporter": "python",
   "pygments_lexer": "ipython3",
   "version": "3.12.7"
  }
 },
 "nbformat": 4,
 "nbformat_minor": 5
}
