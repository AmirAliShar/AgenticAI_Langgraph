{
 "cells": [
  {
   "cell_type": "code",
   "execution_count": 31,
   "id": "4ab1c33b",
   "metadata": {},
   "outputs": [],
   "source": [
    "from dotenv import load_dotenv\n",
    "import os\n",
    "from langchain_groq import ChatGroq\n",
    "load_dotenv()\n",
    "GROQ_API_KEY=os.environ.get(\"GROQ_API_KEY\")\n",
    "\n",
    "llm =ChatGroq(model =\"llama-3.3-70b-versatile\")\n",
    "\n",
    "# Set inmemory llm cache\n",
    "from langchain_core.globals import set_llm_cache\n",
    "from langchain_core.caches import InMemoryCache\n",
    "set_llm_cache(InMemoryCache())"
   ]
  },
  {
   "cell_type": "code",
   "execution_count": 32,
   "id": "4b1c87ac",
   "metadata": {},
   "outputs": [],
   "source": [
    "# Create the Statpe\n",
    "from typing import TypedDict\n",
    "\n",
    "class BlogState(TypedDict):\n",
    "    title:str\n",
    "    content:str\n",
    "    outline:str"
   ]
  },
  {
   "cell_type": "code",
   "execution_count": 33,
   "id": "5d6a24f7",
   "metadata": {},
   "outputs": [],
   "source": [
    "#create the function to generate the outline\n",
    "\n",
    "def OutlineCreator(state:BlogState) -> BlogState:\n",
    "\n",
    "    #Update the title\n",
    "    title=state[\"title\"]\n",
    "\n",
    "    #Call the llm to generate the Outline\n",
    "    prompt =f\"Generate the outline of the for the blog on the topic{title}\"\n",
    "\n",
    "    response =llm.invoke(prompt).content\n",
    "    #Update the state \n",
    "    state[\"outline\"]=response\n",
    "\n",
    "    return state"
   ]
  },
  {
   "cell_type": "code",
   "execution_count": 34,
   "id": "2b246308",
   "metadata": {},
   "outputs": [],
   "source": [
    "#Create the function for the content\n",
    "\n",
    "def content_creator(state:BlogState) -> BlogState:\n",
    "\n",
    "    title=state[\"title\"]\n",
    "    outline=state[\"outline\"]\n",
    "\n",
    "    #Create the prompt\n",
    "\n",
    "    prompt=f\"Write a detailed blog on the title - {title} using the following outline \\n - {outline}\"\n",
    "\n",
    "    response =llm.invoke(prompt).content\n",
    "\n",
    "    #Update the content\n",
    "\n",
    "    state[\"content\"]=response\n",
    "\n",
    "    return state"
   ]
  },
  {
   "cell_type": "code",
   "execution_count": 35,
   "id": "8af8bc22",
   "metadata": {},
   "outputs": [],
   "source": [
    "#Create the workflow \n",
    "from langgraph.graph import StateGraph,START,END\n",
    "\n",
    "workflow =StateGraph(BlogState)"
   ]
  },
  {
   "cell_type": "code",
   "execution_count": 36,
   "id": "3df3b3c6",
   "metadata": {},
   "outputs": [],
   "source": [
    "# Add the nodes\n",
    "workflow.add_node(\"OutlineCreator\", OutlineCreator)\n",
    "workflow.add_node(\"ContentCreator\",content_creator)\n",
    "\n",
    "#Add the edges\n",
    "workflow.add_edge(START,\"OutlineCreator\")\n",
    "workflow.add_edge(\"OutlineCreator\",\"ContentCreator\")\n",
    "workflow.add_edge(\"ContentCreator\",END)\n",
    "\n",
    "#Compile the Graph\n",
    "\n",
    "graph=workflow.compile()"
   ]
  },
  {
   "cell_type": "code",
   "execution_count": 37,
   "id": "9c21f2d2",
   "metadata": {},
   "outputs": [
    {
     "name": "stdout",
     "output_type": "stream",
     "text": [
      "{'title': 'Rise of Agentic AI in world', 'content': \"**The Rise of Agentic AI in the World**\\n\\nArtificial Intelligence (AI) has become an integral part of our daily lives, transforming the way we work, communicate, and interact with one another. From virtual assistants like Siri and Alexa to self-driving cars and personalized product recommendations, AI is increasingly pervasive in our world. However, a new and more advanced form of AI is emerging, known as Agentic AI. This type of AI is characterized by its autonomy, self-awareness, and decision-making capabilities, which enable it to operate independently and make choices based on data and goals. In this blog, we will explore the rise of Agentic AI, its applications, benefits, challenges, and future implications.\\n\\n**What is Agentic AI?**\\n\\nAgentic AI refers to a type of artificial intelligence that possesses autonomy, self-awareness, and decision-making capabilities. Autonomy enables Agentic AI systems to operate independently, without human intervention, and make decisions based on their own goals and objectives. Self-awareness allows these systems to understand their own capabilities and limitations, enabling them to adapt and learn from their experiences. Decision-making capabilities enable Agentic AI systems to make choices based on data and goals, often in real-time.\\n\\nExamples of Agentic AI systems include autonomous vehicles, personal assistants like Alexa and Google Assistant, and expert systems like IBM Watson Health. These systems are capable of operating independently, making decisions, and learning from their experiences, which enables them to improve their performance over time.\\n\\n**Applications of Agentic AI**\\n\\nAgentic AI is being applied in a wide range of industries and domains, including healthcare, finance, transportation, and education. In healthcare, Agentic AI is being used to develop personalized medicine, improve patient care, and conduct medical research. For example, IBM Watson Health is using Agentic AI to analyze medical data and provide personalized treatment recommendations to doctors and patients.\\n\\nIn finance, Agentic AI is being used to manage portfolios, analyze risk, and make trading decisions. For example, hedge funds and investment banks are using Agentic AI to analyze market data and make predictions about future market trends.\\n\\nIn transportation, Agentic AI is being used to develop autonomous vehicles, manage traffic flow, and optimize logistics. For example, Google's Self-Driving Car Project is using Agentic AI to develop autonomous vehicles that can navigate roads and traffic safely and efficiently.\\n\\nIn education, Agentic AI is being used to develop personalized learning systems, adaptive assessments, and intelligent tutoring systems. For example, online learning platforms like Coursera and Udacity are using Agentic AI to provide personalized learning recommendations to students and improve their learning outcomes.\\n\\n**Benefits of Agentic AI**\\n\\nThe benefits of Agentic AI are numerous and significant. One of the primary benefits is increased efficiency and productivity, as Agentic AI systems can operate independently and make decisions in real-time. This enables businesses and organizations to automate many tasks and processes, freeing up human resources for more strategic and creative work.\\n\\nAnother benefit of Agentic AI is improved accuracy and decision-making. Agentic AI systems can analyze large amounts of data and make predictions and decisions based on that data, often with greater accuracy and speed than humans.\\n\\nAgentic AI also enables enhanced customer experience and personalization. For example, virtual assistants like Alexa and Google Assistant can provide personalized recommendations and services to customers, based on their preferences and behavior.\\n\\nFinally, Agentic AI has the potential to bring about significant cost savings and revenue growth. By automating tasks and processes, businesses and organizations can reduce their costs and improve their profitability. Additionally, Agentic AI can enable new business models and revenue streams, such as personalized medicine and autonomous transportation services.\\n\\n**Challenges and Concerns**\\n\\nWhile Agentic AI has many benefits, it also raises several challenges and concerns. One of the primary concerns is job displacement and unemployment, as Agentic AI systems automate many tasks and processes that were previously performed by humans.\\n\\nAnother concern is bias and discrimination in AI decision-making. Agentic AI systems can perpetuate and amplify existing biases and discrimination, if they are trained on biased data or designed with a particular worldview.\\n\\nCybersecurity risks and potential AI-powered attacks are also a concern. Agentic AI systems can be vulnerable to cyber attacks, which can compromise their autonomy and decision-making capabilities.\\n\\nFinally, there are ethical considerations and accountability concerns surrounding Agentic AI. As Agentic AI systems make decisions and take actions, there is a need to ensure that they are aligned with human values and ethics.\\n\\n**Future of Agentic AI**\\n\\nThe future of Agentic AI is exciting and rapidly evolving. Emerging trends and technologies, such as edge AI and explainable AI, are enabling new applications and innovations. For example, edge AI enables Agentic AI systems to operate at the edge of the network, closer to the data and devices, which can improve their performance and efficiency.\\n\\nThe integration of Agentic AI with other technologies, such as IoT and blockchain, is also enabling new applications and innovations. For example, Agentic AI can be used to analyze data from IoT devices and make predictions and decisions based on that data.\\n\\nThe development of more advanced autonomous systems, such as autonomous vehicles and drones, is also a key area of research and innovation. These systems have the potential to transform industries and domains, such as transportation and logistics.\\n\\n**Conclusion**\\n\\nIn conclusion, the rise of Agentic AI is transforming the world, bringing about significant benefits and challenges that need to be addressed. As Agentic AI systems become more pervasive and autonomous, there is a need to ensure that they are aligned with human values and ethics. The future of Agentic AI is exciting and rapidly evolving, with emerging trends and technologies enabling new applications and innovations. However, there is also a need for ongoing research and development to address the challenges and concerns surrounding Agentic AI, and to ensure that these technologies are developed and deployed responsibly.\\n\\nAs we move forward in this new era of Agentic AI, it is essential to consider the potential benefits and challenges of these technologies, and to work towards ensuring that they are developed and deployed in a way that benefits humanity as a whole. By doing so, we can unlock the full potential of Agentic AI and create a brighter, more prosperous future for all.\", 'outline': 'Here is a suggested outline for a blog on the topic \"Rise of Agentic AI in the World\":\\n\\n**I. Introduction**\\n\\n* Brief overview of Artificial Intelligence (AI) and its increasing presence in our lives\\n* Explanation of Agentic AI and its unique characteristics (autonomy, self-awareness, decision-making capabilities)\\n* Thesis statement: The rise of Agentic AI is transforming the world, bringing about significant benefits and challenges that need to be addressed.\\n\\n**II. What is Agentic AI?**\\n\\n* Definition and explanation of Agentic AI, including its key features:\\n\\t+ Autonomy: ability to operate independently\\n\\t+ Self-awareness: ability to understand its own capabilities and limitations\\n\\t+ Decision-making: ability to make choices based on data and goals\\n* Examples of Agentic AI systems, such as:\\n\\t+ Autonomous vehicles\\n\\t+ Personal assistants (e.g., Alexa, Google Assistant)\\n\\t+ Expert systems (e.g., medical diagnosis, financial analysis)\\n\\n**III. Applications of Agentic AI**\\n\\n* Overview of various industries and domains where Agentic AI is being applied:\\n\\t+ Healthcare: personalized medicine, patient care, medical research\\n\\t+ Finance: portfolio management, risk analysis, trading\\n\\t+ Transportation: autonomous vehicles, traffic management, logistics\\n\\t+ Education: personalized learning, adaptive assessments, intelligent tutoring\\n* Examples of successful Agentic AI implementations, including:\\n\\t+ IBM Watson Health\\n\\t+ Google Self-Driving Car Project\\n\\t+ Amazon Alexa\\n\\n**IV. Benefits of Agentic AI**\\n\\n* Discussion of the benefits of Agentic AI, including:\\n\\t+ Increased efficiency and productivity\\n\\t+ Improved accuracy and decision-making\\n\\t+ Enhanced customer experience and personalization\\n\\t+ Potential for significant cost savings and revenue growth\\n* Examples of how Agentic AI is improving lives, such as:\\n\\t+ Assisting people with disabilities\\n\\t+ Enhancing healthcare outcomes\\n\\t+ Improving traffic safety and reducing congestion\\n\\n**V. Challenges and Concerns**\\n\\n* Discussion of the challenges and concerns associated with Agentic AI, including:\\n\\t+ Job displacement and unemployment\\n\\t+ Bias and discrimination in AI decision-making\\n\\t+ Cybersecurity risks and potential for AI-powered attacks\\n\\t+ Ethical considerations and accountability\\n* Examples of the potential risks and consequences of Agentic AI, such as:\\n\\t+ Autonomous vehicles accidents\\n\\t+ AI-powered hacking and cyber attacks\\n\\t+ Biased AI decision-making in hiring and lending\\n\\n**VI. Future of Agentic AI**\\n\\n* Discussion of the future of Agentic AI, including:\\n\\t+ Emerging trends and technologies (e.g., edge AI, explainable AI)\\n\\t+ Potential applications and industries that may be transformed by Agentic AI\\n\\t+ The need for ongoing research and development to address challenges and concerns\\n* Examples of cutting-edge Agentic AI research and innovations, such as:\\n\\t+ Development of more advanced autonomous systems\\n\\t+ Integration of Agentic AI with other technologies (e.g., IoT, blockchain)\\n\\n**VII. Conclusion**\\n\\n* Summary of the rise of Agentic AI and its impact on the world\\n* Final thoughts on the potential benefits and challenges of Agentic AI, and the need for responsible development and deployment of these technologies.\\n\\nI hope this outline helps you to write a comprehensive and informative blog on the topic of Agentic AI!'}\n"
     ]
    }
   ],
   "source": [
    "#Excute the graph\n",
    "\n",
    "intial={\"title\":\"Rise of Agentic AI in world\"}\n",
    "\n",
    "output=graph.invoke(intial)\n",
    "\n",
    "print(output)"
   ]
  },
  {
   "cell_type": "code",
   "execution_count": 38,
   "id": "0c58c64a",
   "metadata": {},
   "outputs": [
    {
     "data": {
      "text/plain": [
       "'Rise of Agentic AI in world'"
      ]
     },
     "execution_count": 38,
     "metadata": {},
     "output_type": "execute_result"
    }
   ],
   "source": [
    "output[\"title\"]"
   ]
  },
  {
   "cell_type": "code",
   "execution_count": 40,
   "id": "f521c8ed",
   "metadata": {},
   "outputs": [
    {
     "name": "stdout",
     "output_type": "stream",
     "text": [
      "Here is a suggested outline for a blog on the topic \"Rise of Agentic AI in the World\":\n",
      "\n",
      "**I. Introduction**\n",
      "\n",
      "* Brief overview of Artificial Intelligence (AI) and its increasing presence in our lives\n",
      "* Explanation of Agentic AI and its unique characteristics (autonomy, self-awareness, decision-making capabilities)\n",
      "* Thesis statement: The rise of Agentic AI is transforming the world, bringing about significant benefits and challenges that need to be addressed.\n",
      "\n",
      "**II. What is Agentic AI?**\n",
      "\n",
      "* Definition and explanation of Agentic AI, including its key features:\n",
      "\t+ Autonomy: ability to operate independently\n",
      "\t+ Self-awareness: ability to understand its own capabilities and limitations\n",
      "\t+ Decision-making: ability to make choices based on data and goals\n",
      "* Examples of Agentic AI systems, such as:\n",
      "\t+ Autonomous vehicles\n",
      "\t+ Personal assistants (e.g., Alexa, Google Assistant)\n",
      "\t+ Expert systems (e.g., medical diagnosis, financial analysis)\n",
      "\n",
      "**III. Applications of Agentic AI**\n",
      "\n",
      "* Overview of various industries and domains where Agentic AI is being applied:\n",
      "\t+ Healthcare: personalized medicine, patient care, medical research\n",
      "\t+ Finance: portfolio management, risk analysis, trading\n",
      "\t+ Transportation: autonomous vehicles, traffic management, logistics\n",
      "\t+ Education: personalized learning, adaptive assessments, intelligent tutoring\n",
      "* Examples of successful Agentic AI implementations, including:\n",
      "\t+ IBM Watson Health\n",
      "\t+ Google Self-Driving Car Project\n",
      "\t+ Amazon Alexa\n",
      "\n",
      "**IV. Benefits of Agentic AI**\n",
      "\n",
      "* Discussion of the benefits of Agentic AI, including:\n",
      "\t+ Increased efficiency and productivity\n",
      "\t+ Improved accuracy and decision-making\n",
      "\t+ Enhanced customer experience and personalization\n",
      "\t+ Potential for significant cost savings and revenue growth\n",
      "* Examples of how Agentic AI is improving lives, such as:\n",
      "\t+ Assisting people with disabilities\n",
      "\t+ Enhancing healthcare outcomes\n",
      "\t+ Improving traffic safety and reducing congestion\n",
      "\n",
      "**V. Challenges and Concerns**\n",
      "\n",
      "* Discussion of the challenges and concerns associated with Agentic AI, including:\n",
      "\t+ Job displacement and unemployment\n",
      "\t+ Bias and discrimination in AI decision-making\n",
      "\t+ Cybersecurity risks and potential for AI-powered attacks\n",
      "\t+ Ethical considerations and accountability\n",
      "* Examples of the potential risks and consequences of Agentic AI, such as:\n",
      "\t+ Autonomous vehicles accidents\n",
      "\t+ AI-powered hacking and cyber attacks\n",
      "\t+ Biased AI decision-making in hiring and lending\n",
      "\n",
      "**VI. Future of Agentic AI**\n",
      "\n",
      "* Discussion of the future of Agentic AI, including:\n",
      "\t+ Emerging trends and technologies (e.g., edge AI, explainable AI)\n",
      "\t+ Potential applications and industries that may be transformed by Agentic AI\n",
      "\t+ The need for ongoing research and development to address challenges and concerns\n",
      "* Examples of cutting-edge Agentic AI research and innovations, such as:\n",
      "\t+ Development of more advanced autonomous systems\n",
      "\t+ Integration of Agentic AI with other technologies (e.g., IoT, blockchain)\n",
      "\n",
      "**VII. Conclusion**\n",
      "\n",
      "* Summary of the rise of Agentic AI and its impact on the world\n",
      "* Final thoughts on the potential benefits and challenges of Agentic AI, and the need for responsible development and deployment of these technologies.\n",
      "\n",
      "I hope this outline helps you to write a comprehensive and informative blog on the topic of Agentic AI!\n"
     ]
    }
   ],
   "source": [
    "print(output[\"outline\"])"
   ]
  },
  {
   "cell_type": "code",
   "execution_count": 42,
   "id": "3a8e930e",
   "metadata": {},
   "outputs": [
    {
     "name": "stdout",
     "output_type": "stream",
     "text": [
      "**The Rise of Agentic AI in the World**\n",
      "\n",
      "Artificial Intelligence (AI) has become an integral part of our daily lives, transforming the way we work, communicate, and interact with one another. From virtual assistants like Siri and Alexa to self-driving cars and personalized product recommendations, AI is increasingly pervasive in our world. However, a new and more advanced form of AI is emerging, known as Agentic AI. This type of AI is characterized by its autonomy, self-awareness, and decision-making capabilities, which enable it to operate independently and make choices based on data and goals. In this blog, we will explore the rise of Agentic AI, its applications, benefits, challenges, and future implications.\n",
      "\n",
      "**What is Agentic AI?**\n",
      "\n",
      "Agentic AI refers to a type of artificial intelligence that possesses autonomy, self-awareness, and decision-making capabilities. Autonomy enables Agentic AI systems to operate independently, without human intervention, and make decisions based on their own goals and objectives. Self-awareness allows these systems to understand their own capabilities and limitations, enabling them to adapt and learn from their experiences. Decision-making capabilities enable Agentic AI systems to make choices based on data and goals, often in real-time.\n",
      "\n",
      "Examples of Agentic AI systems include autonomous vehicles, personal assistants like Alexa and Google Assistant, and expert systems like IBM Watson Health. These systems are capable of operating independently, making decisions, and learning from their experiences, which enables them to improve their performance over time.\n",
      "\n",
      "**Applications of Agentic AI**\n",
      "\n",
      "Agentic AI is being applied in a wide range of industries and domains, including healthcare, finance, transportation, and education. In healthcare, Agentic AI is being used to develop personalized medicine, improve patient care, and conduct medical research. For example, IBM Watson Health is using Agentic AI to analyze medical data and provide personalized treatment recommendations to doctors and patients.\n",
      "\n",
      "In finance, Agentic AI is being used to manage portfolios, analyze risk, and make trading decisions. For example, hedge funds and investment banks are using Agentic AI to analyze market data and make predictions about future market trends.\n",
      "\n",
      "In transportation, Agentic AI is being used to develop autonomous vehicles, manage traffic flow, and optimize logistics. For example, Google's Self-Driving Car Project is using Agentic AI to develop autonomous vehicles that can navigate roads and traffic safely and efficiently.\n",
      "\n",
      "In education, Agentic AI is being used to develop personalized learning systems, adaptive assessments, and intelligent tutoring systems. For example, online learning platforms like Coursera and Udacity are using Agentic AI to provide personalized learning recommendations to students and improve their learning outcomes.\n",
      "\n",
      "**Benefits of Agentic AI**\n",
      "\n",
      "The benefits of Agentic AI are numerous and significant. One of the primary benefits is increased efficiency and productivity, as Agentic AI systems can operate independently and make decisions in real-time. This enables businesses and organizations to automate many tasks and processes, freeing up human resources for more strategic and creative work.\n",
      "\n",
      "Another benefit of Agentic AI is improved accuracy and decision-making. Agentic AI systems can analyze large amounts of data and make predictions and decisions based on that data, often with greater accuracy and speed than humans.\n",
      "\n",
      "Agentic AI also enables enhanced customer experience and personalization. For example, virtual assistants like Alexa and Google Assistant can provide personalized recommendations and services to customers, based on their preferences and behavior.\n",
      "\n",
      "Finally, Agentic AI has the potential to bring about significant cost savings and revenue growth. By automating tasks and processes, businesses and organizations can reduce their costs and improve their profitability. Additionally, Agentic AI can enable new business models and revenue streams, such as personalized medicine and autonomous transportation services.\n",
      "\n",
      "**Challenges and Concerns**\n",
      "\n",
      "While Agentic AI has many benefits, it also raises several challenges and concerns. One of the primary concerns is job displacement and unemployment, as Agentic AI systems automate many tasks and processes that were previously performed by humans.\n",
      "\n",
      "Another concern is bias and discrimination in AI decision-making. Agentic AI systems can perpetuate and amplify existing biases and discrimination, if they are trained on biased data or designed with a particular worldview.\n",
      "\n",
      "Cybersecurity risks and potential AI-powered attacks are also a concern. Agentic AI systems can be vulnerable to cyber attacks, which can compromise their autonomy and decision-making capabilities.\n",
      "\n",
      "Finally, there are ethical considerations and accountability concerns surrounding Agentic AI. As Agentic AI systems make decisions and take actions, there is a need to ensure that they are aligned with human values and ethics.\n",
      "\n",
      "**Future of Agentic AI**\n",
      "\n",
      "The future of Agentic AI is exciting and rapidly evolving. Emerging trends and technologies, such as edge AI and explainable AI, are enabling new applications and innovations. For example, edge AI enables Agentic AI systems to operate at the edge of the network, closer to the data and devices, which can improve their performance and efficiency.\n",
      "\n",
      "The integration of Agentic AI with other technologies, such as IoT and blockchain, is also enabling new applications and innovations. For example, Agentic AI can be used to analyze data from IoT devices and make predictions and decisions based on that data.\n",
      "\n",
      "The development of more advanced autonomous systems, such as autonomous vehicles and drones, is also a key area of research and innovation. These systems have the potential to transform industries and domains, such as transportation and logistics.\n",
      "\n",
      "**Conclusion**\n",
      "\n",
      "In conclusion, the rise of Agentic AI is transforming the world, bringing about significant benefits and challenges that need to be addressed. As Agentic AI systems become more pervasive and autonomous, there is a need to ensure that they are aligned with human values and ethics. The future of Agentic AI is exciting and rapidly evolving, with emerging trends and technologies enabling new applications and innovations. However, there is also a need for ongoing research and development to address the challenges and concerns surrounding Agentic AI, and to ensure that these technologies are developed and deployed responsibly.\n",
      "\n",
      "As we move forward in this new era of Agentic AI, it is essential to consider the potential benefits and challenges of these technologies, and to work towards ensuring that they are developed and deployed in a way that benefits humanity as a whole. By doing so, we can unlock the full potential of Agentic AI and create a brighter, more prosperous future for all.\n"
     ]
    }
   ],
   "source": [
    "print(output[\"content\"])"
   ]
  },
  {
   "cell_type": "code",
   "execution_count": null,
   "id": "7a2a30c0",
   "metadata": {},
   "outputs": [],
   "source": []
  }
 ],
 "metadata": {
  "kernelspec": {
   "display_name": "base",
   "language": "python",
   "name": "python3"
  },
  "language_info": {
   "codemirror_mode": {
    "name": "ipython",
    "version": 3
   },
   "file_extension": ".py",
   "mimetype": "text/x-python",
   "name": "python",
   "nbconvert_exporter": "python",
   "pygments_lexer": "ipython3",
   "version": "3.12.7"
  }
 },
 "nbformat": 4,
 "nbformat_minor": 5
}
