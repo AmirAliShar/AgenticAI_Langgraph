{
 "cells": [
  {
   "cell_type": "code",
   "execution_count": null,
   "id": "66378d9e",
   "metadata": {},
   "outputs": [],
   "source": [
    "from dotenv import load_dotenv\n",
    "import os\n",
    "from langchain_groq import ChatGroq\n",
    "load_dotenv()\n",
    "GROQ_API_KEY=os.environ.get(\"GROQ_API_KEY\")\n",
    "\n",
    "TRACELOOP_API_KEY= os.environ.get(\"TRACELOOP_API_KEY\")\n",
    "\n",
    "llm =ChatGroq(model =\"llama-3.3-70b-versatile\")\n"
   ]
  },
  {
   "cell_type": "code",
   "execution_count": null,
   "id": "d09c00fa",
   "metadata": {},
   "outputs": [],
   "source": [
    "from typing import TypedDict,Annotated\n",
    "from langchain_core.messages import BaseMessage, AIMessage, HumanMessage\n",
    "from langgraph.graph import add_messages\n",
    "\n",
    "class State(TypedDict):\n",
    "    messages: Annotated[list[BaseMessage],add_messages]"
   ]
  },
  {
   "cell_type": "code",
   "execution_count": 4,
   "id": "95dbe069",
   "metadata": {},
   "outputs": [],
   "source": [
    "def ChatBot(state:State):\n",
    "    #Take user query\n",
    "    query = state[\"messages\"]\n",
    "    \n",
    "    #send to llm\n",
    "\n",
    "    response = llm.invoke(query)\n",
    "    #store to the state\n",
    "\n",
    "    return {\"messages\":[response]}\n"
   ]
  },
  {
   "cell_type": "code",
   "execution_count": 5,
   "id": "2062d6ec",
   "metadata": {},
   "outputs": [],
   "source": [
    "from langgraph.graph import StateGraph,START,END\n",
    "from langgraph.checkpoint.memory import MemorySaver\n",
    "workflow =StateGraph(State)\n",
    "\n",
    "#Add the nodes\n",
    "workflow.add_node(\"chatbot\",ChatBot)\n",
    "# Add the edges\n",
    "workflow.add_edge(START,\"chatbot\")\n",
    "workflow.add_edge(\"chatbot\",END)\n",
    "# Compile the graph\n",
    "memory =MemorySaver()\n",
    "graph =workflow.compile(checkpointer =memory)"
   ]
  },
  {
   "cell_type": "code",
   "execution_count": 6,
   "id": "c707db1a",
   "metadata": {},
   "outputs": [
    {
     "data": {
      "image/png": "[encoded data removed]",
      "text/plain": [
       "<langgraph.graph.state.CompiledStateGraph object at 0x00000174296109B0>"
      ]
     },
     "execution_count": 6,
     "metadata": {},
     "output_type": "execute_result"
    }
   ],
   "source": [
    "graph"
   ]
  },
  {
   "cell_type": "code",
   "execution_count": 6,
   "id": "90bd235e",
   "metadata": {},
   "outputs": [
    {
     "data": {
      "text/plain": [
       "{'messages': [HumanMessage(content='What is AI', additional_kwargs={}, response_metadata={}, id='8ba49c0d-ff43-4b17-9243-3052d8add792'),\n",
       "  AIMessage(content=\"**Artificial Intelligence (AI)** is a broad field of computer science that focuses on creating intelligent machines capable of performing tasks that typically require human intelligence, such as:\\n\\n1. **Learning**: Acquiring knowledge and improving performance over time.\\n2. **Problem-solving**: Finding solutions to complex problems using reasoning, decision-making, and optimization techniques.\\n3. **Perception**: Interpreting and understanding data from sensors, such as images, speech, and text.\\n4. **Reasoning**: Drawing conclusions and making decisions based on available information.\\n\\nAI systems can be classified into several types, including:\\n\\n1. **Narrow or Weak AI**: Designed to perform a specific task, such as facial recognition, language translation, or playing chess.\\n2. **General or Strong AI**: Aims to create a machine that can perform any intellectual task that a human can, with a level of intelligence similar to or surpassing that of humans.\\n3. **Superintelligence**: A hypothetical AI system that significantly surpasses the intelligence of the best human minds, potentially leading to transformative changes in society.\\n\\n**Key AI Techniques:**\\n\\n1. **Machine Learning (ML)**: A subset of AI that involves training algorithms on data to enable prediction, classification, and decision-making.\\n2. **Deep Learning (DL)**: A type of ML that uses neural networks to analyze data, often with multiple layers of abstraction.\\n3. **Natural Language Processing (NLP)**: A field of AI that deals with the interaction between computers and humans in natural language.\\n\\n**Applications of AI:**\\n\\n1. **Virtual Assistants**: AI-powered assistants, such as Siri, Alexa, and Google Assistant, that can perform tasks and answer questions.\\n2. **Image Recognition**: AI systems that can identify objects, people, and patterns in images, with applications in security, healthcare, and self-driving cars.\\n3. **Predictive Maintenance**: AI-powered systems that can predict equipment failures, reducing downtime and increasing overall efficiency.\\n4. **Healthcare**: AI can help with diagnosis, treatment, and patient care, leading to improved outcomes and reduced costs.\\n\\n**Challenges and Concerns:**\\n\\n1. **Job Displacement**: AI may automate certain jobs, potentially leading to unemployment and social disruption.\\n2. **Bias and Fairness**: AI systems can perpetuate existing biases if trained on biased data, leading to unfair outcomes.\\n3. **Security**: AI systems can be vulnerable to cyber attacks and data breaches, compromising sensitive information.\\n4. **Ethics**: AI raises questions about accountability, transparency, and the need for human oversight and control.\\n\\nAs AI continues to evolve, it's essential to address these challenges and concerns, ensuring that AI is developed and used responsibly to benefit society as a whole.\", additional_kwargs={}, response_metadata={'token_usage': {'completion_tokens': 554, 'prompt_tokens': 38, 'total_tokens': 592, 'completion_time': 1.292453178, 'prompt_time': 0.008407904, 'queue_time': 0.09045951399999999, 'total_time': 1.300861082}, 'model_name': 'llama-3.3-70b-versatile', 'system_fingerprint': 'fp_9a8b91ba77', 'finish_reason': 'stop', 'logprobs': None}, id='run--2e9e1b51-a3cc-490c-b817-057ae61e63ce-0', usage_metadata={'input_tokens': 38, 'output_tokens': 554, 'total_tokens': 592})]}"
      ]
     },
     "execution_count": 6,
     "metadata": {},
     "output_type": "execute_result"
    }
   ],
   "source": [
    "graph.invoke({\"messages\":\"What is AI\"})"
   ]
  },
  {
   "cell_type": "code",
   "execution_count": 7,
   "id": "86f10bf7",
   "metadata": {},
   "outputs": [],
   "source": [
    "message={\"messages\":[HumanMessage(content=\"What is AI\")]}\n",
    "result=graph.invoke(message)"
   ]
  },
  {
   "cell_type": "code",
   "execution_count": 8,
   "id": "ec8287d6",
   "metadata": {},
   "outputs": [
    {
     "name": "stdout",
     "output_type": "stream",
     "text": [
      "**Artificial Intelligence (AI)**: Artificial Intelligence refers to the development of computer systems that can perform tasks that typically require human intelligence, such as:\n",
      "\n",
      "* Learning\n",
      "* Problem-solving\n",
      "* Reasoning\n",
      "* Perception\n",
      "* Understanding language\n",
      "\n",
      "AI involves the use of algorithms, statistical models, and computer programs to enable machines to make decisions, classify data, and predict outcomes without being explicitly programmed.\n",
      "\n",
      "**Key Characteristics of AI:**\n",
      "\n",
      "1. **Machine Learning**: AI systems can learn from data and improve their performance over time.\n",
      "2. **Reasoning and Problem-Solving**: AI systems can analyze situations, identify patterns, and make decisions based on that analysis.\n",
      "3. **Natural Language Processing**: AI systems can understand, interpret, and generate human language.\n",
      "4. **Computer Vision**: AI systems can interpret and understand visual data from images and videos.\n",
      "\n",
      "**Types of AI:**\n",
      "\n",
      "1. **Narrow or Weak AI**: Designed to perform a specific task, such as facial recognition or language translation.\n",
      "2. **General or Strong AI**: A hypothetical AI system that possesses human-like intelligence and can perform any intellectual task.\n",
      "3. **Superintelligence**: An AI system that is significantly more intelligent than the best human minds.\n",
      "\n",
      "**Applications of AI:**\n",
      "\n",
      "1. **Virtual Assistants**: Siri, Alexa, Google Assistant\n",
      "2. **Image and Speech Recognition**: Self-driving cars, facial recognition systems\n",
      "3. **Predictive Maintenance**: Predicting equipment failures, scheduling maintenance\n",
      "4. **Healthcare**: Medical diagnosis, personalized medicine\n",
      "5. **Customer Service**: Chatbots, automated customer support\n",
      "\n",
      "**Challenges and Limitations of AI:**\n",
      "\n",
      "1. **Bias and Fairness**: AI systems can perpetuate biases and discrimination if trained on biased data.\n",
      "2. **Transparency and Explainability**: Understanding how AI systems make decisions can be difficult.\n",
      "3. **Job Displacement**: AI may automate certain jobs, potentially displacing human workers.\n",
      "4. **Security and Safety**: AI systems can be vulnerable to cyber attacks and may pose safety risks if not designed with safety in mind.\n",
      "\n",
      "Overall, AI has the potential to revolutionize many aspects of our lives, but it also raises important questions about its impact on society, ethics, and human values.\n"
     ]
    }
   ],
   "source": [
    "print(result[\"messages\"][-1].content)"
   ]
  },
  {
   "cell_type": "code",
   "execution_count": 7,
   "id": "beb40521",
   "metadata": {},
   "outputs": [
    {
     "name": "stdout",
     "output_type": "stream",
     "text": [
      "AI: Nice to meet you, Amir Ali! How are you doing today? Is there something I can help you with or would you like to chat?\n",
      "AI: Your name is Amir Ali.\n",
      "AI: A profound topic! The concept of existence is a fundamental question that has puzzled philosophers, scientists, and thinkers for centuries.\n",
      "\n",
      "In a simple sense, to exist means to have being, to be present, or to have reality. It implies that something is real, actual, and not just a product of imagination or a hypothetical concept.\n",
      "\n",
      "The question of existence can be explored in various ways, including:\n",
      "\n",
      "1. **Ontology**: The branch of philosophy that deals with the nature of existence, including questions about what exists, how things exist, and the relationships between existing things.\n",
      "2. **Cosmology**: The study of the origin, evolution, and fate of the universe, which raises questions about the existence of the cosmos and our place within it.\n",
      "3. **Philosophy of mind**: The study of the nature of consciousness, the mind, and the human experience, which raises questions about the existence of subjective experience and the relationship between the mind and the external world.\n",
      "\n",
      "Some of the big questions related to existence include:\n",
      "\n",
      "* What is the nature of reality?\n",
      "* Do we exist as independent entities, or are we part of a larger whole?\n",
      "* Is existence purely physical, or is there a non-physical aspect to reality?\n",
      "* Can we prove or disprove the existence of something?\n",
      "\n",
      "These are just a few examples of the many fascinating questions and topics related to existence. What are your thoughts on this subject, Amir Ali?\n"
     ]
    }
   ],
   "source": [
    "thread_id =\"1\"\n",
    "while True:\n",
    "\n",
    "    user_message =input(\"Enter query here...\")\n",
    "\n",
    "    if user_message.strip().lower() in [\"exit\",\"bye\",\"break\"]:\n",
    "        break\n",
    "    config ={\"configurable\":{\"thread_id\":thread_id}}\n",
    "    response =graph.invoke({\"messages\":[HumanMessage(content=user_message)]},config=config)\n",
    "\n",
    "    print(\"AI:\",response[\"messages\"][-1].content)"
   ]
  },
  {
   "cell_type": "code",
   "execution_count": null,
   "id": "cd9cd614",
   "metadata": {},
   "outputs": [
    {
     "name": "stdout",
     "output_type": "stream",
     "text": [
      "StateSnapshot(values={'messages': [HumanMessage(content='my name is amir ali', additional_kwargs={}, response_metadata={}, id='e8f7f5bf-0789-4070-83cf-3e0cf9cf6692'), AIMessage(content='Nice to meet you, Amir Ali! How are you doing today? Is there something I can help you with or would you like to chat?', additional_kwargs={}, response_metadata={'token_usage': {'completion_tokens': 30, 'prompt_tokens': 41, 'total_tokens': 71, 'completion_time': 0.054894086, 'prompt_time': 0.001814826, 'queue_time': 0.09070331599999999, 'total_time': 0.056708912}, 'model_name': 'llama-3.3-70b-versatile', 'system_fingerprint': 'fp_9a8b91ba77', 'finish_reason': 'stop', 'logprobs': None}, id='run--ed681af8-9994-491c-840c-eb8cb5a60513-0', usage_metadata={'input_tokens': 41, 'output_tokens': 30, 'total_tokens': 71}), HumanMessage(content='what is my name', additional_kwargs={}, response_metadata={}, id='3e9b6e08-b966-4cb1-9c2d-9478d09fa28d'), AIMessage(content='Your name is Amir Ali.', additional_kwargs={}, response_metadata={'token_usage': {'completion_tokens': 7, 'prompt_tokens': 84, 'total_tokens': 91, 'completion_time': 0.007158055, 'prompt_time': 0.011367142, 'queue_time': 0.092483149, 'total_time': 0.018525197}, 'model_name': 'llama-3.3-70b-versatile', 'system_fingerprint': 'fp_3f3b593e33', 'finish_reason': 'stop', 'logprobs': None}, id='run--9348d039-4046-476b-ba15-226fbc7eea85-0', usage_metadata={'input_tokens': 84, 'output_tokens': 7, 'total_tokens': 91}), HumanMessage(content='exist', additional_kwargs={}, response_metadata={}, id='3621f05f-36a8-4ba4-b21b-2e39d155aef5'), AIMessage(content='A profound topic! The concept of existence is a fundamental question that has puzzled philosophers, scientists, and thinkers for centuries.\\n\\nIn a simple sense, to exist means to have being, to be present, or to have reality. It implies that something is real, actual, and not just a product of imagination or a hypothetical concept.\\n\\nThe question of existence can be explored in various ways, including:\\n\\n1. **Ontology**: The branch of philosophy that deals with the nature of existence, including questions about what exists, how things exist, and the relationships between existing things.\\n2. **Cosmology**: The study of the origin, evolution, and fate of the universe, which raises questions about the existence of the cosmos and our place within it.\\n3. **Philosophy of mind**: The study of the nature of consciousness, the mind, and the human experience, which raises questions about the existence of subjective experience and the relationship between the mind and the external world.\\n\\nSome of the big questions related to existence include:\\n\\n* What is the nature of reality?\\n* Do we exist as independent entities, or are we part of a larger whole?\\n* Is existence purely physical, or is there a non-physical aspect to reality?\\n* Can we prove or disprove the existence of something?\\n\\nThese are just a few examples of the many fascinating questions and topics related to existence. What are your thoughts on this subject, Amir Ali?', additional_kwargs={}, response_metadata={'token_usage': {'completion_tokens': 288, 'prompt_tokens': 101, 'total_tokens': 389, 'completion_time': 0.781674461, 'prompt_time': 0.005604063, 'queue_time': 0.099776197, 'total_time': 0.787278524}, 'model_name': 'llama-3.3-70b-versatile', 'system_fingerprint': 'fp_3f3b593e33', 'finish_reason': 'stop', 'logprobs': None}, id='run--bc8a1339-8d61-4946-b2df-38cb557135f5-0', usage_metadata={'input_tokens': 101, 'output_tokens': 288, 'total_tokens': 389})]}, next=(), config={'configurable': {'thread_id': '1', 'checkpoint_ns': '', 'checkpoint_id': '1f069dd1-4c91-6994-8007-c94ad3a1d8dd'}}, metadata={'source': 'loop', 'step': 7, 'parents': {}, 'thread_id': '1'}, created_at='2025-07-26T04:57:50.589787+00:00', parent_config={'configurable': {'thread_id': '1', 'checkpoint_ns': '', 'checkpoint_id': '1f069dd1-39c5-67f8-8006-d1d0a340992c'}}, tasks=(), interrupts=())\n"
     ]
    }
   ],
   "source": [
    "#Get the final value of the state\n",
    "state=graph.get_state(config=config)\n",
    "print(state)"
   ]
  },
  {
   "cell_type": "code",
   "execution_count": null,
   "id": "0c0940e9",
   "metadata": {},
   "outputs": [
    {
     "data": {
      "text/plain": [
       "[StateSnapshot(values={'messages': [HumanMessage(content='my name is amir ali', additional_kwargs={}, response_metadata={}, id='e8f7f5bf-0789-4070-83cf-3e0cf9cf6692'), AIMessage(content='Nice to meet you, Amir Ali! How are you doing today? Is there something I can help you with or would you like to chat?', additional_kwargs={}, response_metadata={'token_usage': {'completion_tokens': 30, 'prompt_tokens': 41, 'total_tokens': 71, 'completion_time': 0.054894086, 'prompt_time': 0.001814826, 'queue_time': 0.09070331599999999, 'total_time': 0.056708912}, 'model_name': 'llama-3.3-70b-versatile', 'system_fingerprint': 'fp_9a8b91ba77', 'finish_reason': 'stop', 'logprobs': None}, id='run--ed681af8-9994-491c-840c-eb8cb5a60513-0', usage_metadata={'input_tokens': 41, 'output_tokens': 30, 'total_tokens': 71}), HumanMessage(content='what is my name', additional_kwargs={}, response_metadata={}, id='3e9b6e08-b966-4cb1-9c2d-9478d09fa28d'), AIMessage(content='Your name is Amir Ali.', additional_kwargs={}, response_metadata={'token_usage': {'completion_tokens': 7, 'prompt_tokens': 84, 'total_tokens': 91, 'completion_time': 0.007158055, 'prompt_time': 0.011367142, 'queue_time': 0.092483149, 'total_time': 0.018525197}, 'model_name': 'llama-3.3-70b-versatile', 'system_fingerprint': 'fp_3f3b593e33', 'finish_reason': 'stop', 'logprobs': None}, id='run--9348d039-4046-476b-ba15-226fbc7eea85-0', usage_metadata={'input_tokens': 84, 'output_tokens': 7, 'total_tokens': 91}), HumanMessage(content='exist', additional_kwargs={}, response_metadata={}, id='3621f05f-36a8-4ba4-b21b-2e39d155aef5'), AIMessage(content='A profound topic! The concept of existence is a fundamental question that has puzzled philosophers, scientists, and thinkers for centuries.\\n\\nIn a simple sense, to exist means to have being, to be present, or to have reality. It implies that something is real, actual, and not just a product of imagination or a hypothetical concept.\\n\\nThe question of existence can be explored in various ways, including:\\n\\n1. **Ontology**: The branch of philosophy that deals with the nature of existence, including questions about what exists, how things exist, and the relationships between existing things.\\n2. **Cosmology**: The study of the origin, evolution, and fate of the universe, which raises questions about the existence of the cosmos and our place within it.\\n3. **Philosophy of mind**: The study of the nature of consciousness, the mind, and the human experience, which raises questions about the existence of subjective experience and the relationship between the mind and the external world.\\n\\nSome of the big questions related to existence include:\\n\\n* What is the nature of reality?\\n* Do we exist as independent entities, or are we part of a larger whole?\\n* Is existence purely physical, or is there a non-physical aspect to reality?\\n* Can we prove or disprove the existence of something?\\n\\nThese are just a few examples of the many fascinating questions and topics related to existence. What are your thoughts on this subject, Amir Ali?', additional_kwargs={}, response_metadata={'token_usage': {'completion_tokens': 288, 'prompt_tokens': 101, 'total_tokens': 389, 'completion_time': 0.781674461, 'prompt_time': 0.005604063, 'queue_time': 0.099776197, 'total_time': 0.787278524}, 'model_name': 'llama-3.3-70b-versatile', 'system_fingerprint': 'fp_3f3b593e33', 'finish_reason': 'stop', 'logprobs': None}, id='run--bc8a1339-8d61-4946-b2df-38cb557135f5-0', usage_metadata={'input_tokens': 101, 'output_tokens': 288, 'total_tokens': 389})]}, next=(), config={'configurable': {'thread_id': '1', 'checkpoint_ns': '', 'checkpoint_id': '1f069dd1-4c91-6994-8007-c94ad3a1d8dd'}}, metadata={'source': 'loop', 'step': 7, 'parents': {}, 'thread_id': '1'}, created_at='2025-07-26T04:57:50.589787+00:00', parent_config={'configurable': {'thread_id': '1', 'checkpoint_ns': '', 'checkpoint_id': '1f069dd1-39c5-67f8-8006-d1d0a340992c'}}, tasks=(), interrupts=()),\n",
       " StateSnapshot(values={'messages': [HumanMessage(content='my name is amir ali', additional_kwargs={}, response_metadata={}, id='e8f7f5bf-0789-4070-83cf-3e0cf9cf6692'), AIMessage(content='Nice to meet you, Amir Ali! How are you doing today? Is there something I can help you with or would you like to chat?', additional_kwargs={}, response_metadata={'token_usage': {'completion_tokens': 30, 'prompt_tokens': 41, 'total_tokens': 71, 'completion_time': 0.054894086, 'prompt_time': 0.001814826, 'queue_time': 0.09070331599999999, 'total_time': 0.056708912}, 'model_name': 'llama-3.3-70b-versatile', 'system_fingerprint': 'fp_9a8b91ba77', 'finish_reason': 'stop', 'logprobs': None}, id='run--ed681af8-9994-491c-840c-eb8cb5a60513-0', usage_metadata={'input_tokens': 41, 'output_tokens': 30, 'total_tokens': 71}), HumanMessage(content='what is my name', additional_kwargs={}, response_metadata={}, id='3e9b6e08-b966-4cb1-9c2d-9478d09fa28d'), AIMessage(content='Your name is Amir Ali.', additional_kwargs={}, response_metadata={'token_usage': {'completion_tokens': 7, 'prompt_tokens': 84, 'total_tokens': 91, 'completion_time': 0.007158055, 'prompt_time': 0.011367142, 'queue_time': 0.092483149, 'total_time': 0.018525197}, 'model_name': 'llama-3.3-70b-versatile', 'system_fingerprint': 'fp_3f3b593e33', 'finish_reason': 'stop', 'logprobs': None}, id='run--9348d039-4046-476b-ba15-226fbc7eea85-0', usage_metadata={'input_tokens': 84, 'output_tokens': 7, 'total_tokens': 91}), HumanMessage(content='exist', additional_kwargs={}, response_metadata={}, id='3621f05f-36a8-4ba4-b21b-2e39d155aef5')]}, next=('chatbot',), config={'configurable': {'thread_id': '1', 'checkpoint_ns': '', 'checkpoint_id': '1f069dd1-39c5-67f8-8006-d1d0a340992c'}}, metadata={'source': 'loop', 'step': 6, 'parents': {}, 'thread_id': '1'}, created_at='2025-07-26T04:57:48.618751+00:00', parent_config={'configurable': {'thread_id': '1', 'checkpoint_ns': '', 'checkpoint_id': '1f069dd1-39c0-6348-8005-1da3bea52c5d'}}, tasks=(PregelTask(id='9320d9ee-7516-4359-7fab-002501d3e353', name='chatbot', path=('__pregel_pull', 'chatbot'), error=None, interrupts=(), state=None, result={'messages': [AIMessage(content='A profound topic! The concept of existence is a fundamental question that has puzzled philosophers, scientists, and thinkers for centuries.\\n\\nIn a simple sense, to exist means to have being, to be present, or to have reality. It implies that something is real, actual, and not just a product of imagination or a hypothetical concept.\\n\\nThe question of existence can be explored in various ways, including:\\n\\n1. **Ontology**: The branch of philosophy that deals with the nature of existence, including questions about what exists, how things exist, and the relationships between existing things.\\n2. **Cosmology**: The study of the origin, evolution, and fate of the universe, which raises questions about the existence of the cosmos and our place within it.\\n3. **Philosophy of mind**: The study of the nature of consciousness, the mind, and the human experience, which raises questions about the existence of subjective experience and the relationship between the mind and the external world.\\n\\nSome of the big questions related to existence include:\\n\\n* What is the nature of reality?\\n* Do we exist as independent entities, or are we part of a larger whole?\\n* Is existence purely physical, or is there a non-physical aspect to reality?\\n* Can we prove or disprove the existence of something?\\n\\nThese are just a few examples of the many fascinating questions and topics related to existence. What are your thoughts on this subject, Amir Ali?', additional_kwargs={}, response_metadata={'token_usage': {'completion_tokens': 288, 'prompt_tokens': 101, 'total_tokens': 389, 'completion_time': 0.781674461, 'prompt_time': 0.005604063, 'queue_time': 0.099776197, 'total_time': 0.787278524}, 'model_name': 'llama-3.3-70b-versatile', 'system_fingerprint': 'fp_3f3b593e33', 'finish_reason': 'stop', 'logprobs': None}, id='run--bc8a1339-8d61-4946-b2df-38cb557135f5-0', usage_metadata={'input_tokens': 101, 'output_tokens': 288, 'total_tokens': 389})]}),), interrupts=()),\n",
       " StateSnapshot(values={'messages': [HumanMessage(content='my name is amir ali', additional_kwargs={}, response_metadata={}, id='e8f7f5bf-0789-4070-83cf-3e0cf9cf6692'), AIMessage(content='Nice to meet you, Amir Ali! How are you doing today? Is there something I can help you with or would you like to chat?', additional_kwargs={}, response_metadata={'token_usage': {'completion_tokens': 30, 'prompt_tokens': 41, 'total_tokens': 71, 'completion_time': 0.054894086, 'prompt_time': 0.001814826, 'queue_time': 0.09070331599999999, 'total_time': 0.056708912}, 'model_name': 'llama-3.3-70b-versatile', 'system_fingerprint': 'fp_9a8b91ba77', 'finish_reason': 'stop', 'logprobs': None}, id='run--ed681af8-9994-491c-840c-eb8cb5a60513-0', usage_metadata={'input_tokens': 41, 'output_tokens': 30, 'total_tokens': 71}), HumanMessage(content='what is my name', additional_kwargs={}, response_metadata={}, id='3e9b6e08-b966-4cb1-9c2d-9478d09fa28d'), AIMessage(content='Your name is Amir Ali.', additional_kwargs={}, response_metadata={'token_usage': {'completion_tokens': 7, 'prompt_tokens': 84, 'total_tokens': 91, 'completion_time': 0.007158055, 'prompt_time': 0.011367142, 'queue_time': 0.092483149, 'total_time': 0.018525197}, 'model_name': 'llama-3.3-70b-versatile', 'system_fingerprint': 'fp_3f3b593e33', 'finish_reason': 'stop', 'logprobs': None}, id='run--9348d039-4046-476b-ba15-226fbc7eea85-0', usage_metadata={'input_tokens': 84, 'output_tokens': 7, 'total_tokens': 91})]}, next=('__start__',), config={'configurable': {'thread_id': '1', 'checkpoint_ns': '', 'checkpoint_id': '1f069dd1-39c0-6348-8005-1da3bea52c5d'}}, metadata={'source': 'input', 'step': 5, 'parents': {}, 'thread_id': '1'}, created_at='2025-07-26T04:57:48.616583+00:00', parent_config={'configurable': {'thread_id': '1', 'checkpoint_ns': '', 'checkpoint_id': '1f069dd0-f9dc-6516-8004-84886fbd09ff'}}, tasks=(PregelTask(id='e3cb14cd-b53c-eee6-6e94-ef4fe11dc0dd', name='__start__', path=('__pregel_pull', '__start__'), error=None, interrupts=(), state=None, result={'messages': [HumanMessage(content='exist', additional_kwargs={}, response_metadata={}, id='3621f05f-36a8-4ba4-b21b-2e39d155aef5')]}),), interrupts=()),\n",
       " StateSnapshot(values={'messages': [HumanMessage(content='my name is amir ali', additional_kwargs={}, response_metadata={}, id='e8f7f5bf-0789-4070-83cf-3e0cf9cf6692'), AIMessage(content='Nice to meet you, Amir Ali! How are you doing today? Is there something I can help you with or would you like to chat?', additional_kwargs={}, response_metadata={'token_usage': {'completion_tokens': 30, 'prompt_tokens': 41, 'total_tokens': 71, 'completion_time': 0.054894086, 'prompt_time': 0.001814826, 'queue_time': 0.09070331599999999, 'total_time': 0.056708912}, 'model_name': 'llama-3.3-70b-versatile', 'system_fingerprint': 'fp_9a8b91ba77', 'finish_reason': 'stop', 'logprobs': None}, id='run--ed681af8-9994-491c-840c-eb8cb5a60513-0', usage_metadata={'input_tokens': 41, 'output_tokens': 30, 'total_tokens': 71}), HumanMessage(content='what is my name', additional_kwargs={}, response_metadata={}, id='3e9b6e08-b966-4cb1-9c2d-9478d09fa28d'), AIMessage(content='Your name is Amir Ali.', additional_kwargs={}, response_metadata={'token_usage': {'completion_tokens': 7, 'prompt_tokens': 84, 'total_tokens': 91, 'completion_time': 0.007158055, 'prompt_time': 0.011367142, 'queue_time': 0.092483149, 'total_time': 0.018525197}, 'model_name': 'llama-3.3-70b-versatile', 'system_fingerprint': 'fp_3f3b593e33', 'finish_reason': 'stop', 'logprobs': None}, id='run--9348d039-4046-476b-ba15-226fbc7eea85-0', usage_metadata={'input_tokens': 84, 'output_tokens': 7, 'total_tokens': 91})]}, next=(), config={'configurable': {'thread_id': '1', 'checkpoint_ns': '', 'checkpoint_id': '1f069dd0-f9dc-6516-8004-84886fbd09ff'}}, metadata={'source': 'loop', 'step': 4, 'parents': {}, 'thread_id': '1'}, created_at='2025-07-26T04:57:41.917211+00:00', parent_config={'configurable': {'thread_id': '1', 'checkpoint_ns': '', 'checkpoint_id': '1f069dd0-f312-6639-8003-ff6f2596fc85'}}, tasks=(), interrupts=()),\n",
       " StateSnapshot(values={'messages': [HumanMessage(content='my name is amir ali', additional_kwargs={}, response_metadata={}, id='e8f7f5bf-0789-4070-83cf-3e0cf9cf6692'), AIMessage(content='Nice to meet you, Amir Ali! How are you doing today? Is there something I can help you with or would you like to chat?', additional_kwargs={}, response_metadata={'token_usage': {'completion_tokens': 30, 'prompt_tokens': 41, 'total_tokens': 71, 'completion_time': 0.054894086, 'prompt_time': 0.001814826, 'queue_time': 0.09070331599999999, 'total_time': 0.056708912}, 'model_name': 'llama-3.3-70b-versatile', 'system_fingerprint': 'fp_9a8b91ba77', 'finish_reason': 'stop', 'logprobs': None}, id='run--ed681af8-9994-491c-840c-eb8cb5a60513-0', usage_metadata={'input_tokens': 41, 'output_tokens': 30, 'total_tokens': 71}), HumanMessage(content='what is my name', additional_kwargs={}, response_metadata={}, id='3e9b6e08-b966-4cb1-9c2d-9478d09fa28d')]}, next=('chatbot',), config={'configurable': {'thread_id': '1', 'checkpoint_ns': '', 'checkpoint_id': '1f069dd0-f312-6639-8003-ff6f2596fc85'}}, metadata={'source': 'loop', 'step': 3, 'parents': {}, 'thread_id': '1'}, created_at='2025-07-26T04:57:41.205356+00:00', parent_config={'configurable': {'thread_id': '1', 'checkpoint_ns': '', 'checkpoint_id': '1f069dd0-f30d-6799-8002-b95aacb2a465'}}, tasks=(PregelTask(id='1380e8d1-34c3-7430-ea64-a8c6633b0709', name='chatbot', path=('__pregel_pull', 'chatbot'), error=None, interrupts=(), state=None, result={'messages': [AIMessage(content='Your name is Amir Ali.', additional_kwargs={}, response_metadata={'token_usage': {'completion_tokens': 7, 'prompt_tokens': 84, 'total_tokens': 91, 'completion_time': 0.007158055, 'prompt_time': 0.011367142, 'queue_time': 0.092483149, 'total_time': 0.018525197}, 'model_name': 'llama-3.3-70b-versatile', 'system_fingerprint': 'fp_3f3b593e33', 'finish_reason': 'stop', 'logprobs': None}, id='run--9348d039-4046-476b-ba15-226fbc7eea85-0', usage_metadata={'input_tokens': 84, 'output_tokens': 7, 'total_tokens': 91})]}),), interrupts=()),\n",
       " StateSnapshot(values={'messages': [HumanMessage(content='my name is amir ali', additional_kwargs={}, response_metadata={}, id='e8f7f5bf-0789-4070-83cf-3e0cf9cf6692'), AIMessage(content='Nice to meet you, Amir Ali! How are you doing today? Is there something I can help you with or would you like to chat?', additional_kwargs={}, response_metadata={'token_usage': {'completion_tokens': 30, 'prompt_tokens': 41, 'total_tokens': 71, 'completion_time': 0.054894086, 'prompt_time': 0.001814826, 'queue_time': 0.09070331599999999, 'total_time': 0.056708912}, 'model_name': 'llama-3.3-70b-versatile', 'system_fingerprint': 'fp_9a8b91ba77', 'finish_reason': 'stop', 'logprobs': None}, id='run--ed681af8-9994-491c-840c-eb8cb5a60513-0', usage_metadata={'input_tokens': 41, 'output_tokens': 30, 'total_tokens': 71})]}, next=('__start__',), config={'configurable': {'thread_id': '1', 'checkpoint_ns': '', 'checkpoint_id': '1f069dd0-f30d-6799-8002-b95aacb2a465'}}, metadata={'source': 'input', 'step': 2, 'parents': {}, 'thread_id': '1'}, created_at='2025-07-26T04:57:41.203343+00:00', parent_config={'configurable': {'thread_id': '1', 'checkpoint_ns': '', 'checkpoint_id': '1f069dd0-7f61-668e-8001-cdb6773df7e9'}}, tasks=(PregelTask(id='57ea5b53-d23f-5253-2330-052d9a8f58cb', name='__start__', path=('__pregel_pull', '__start__'), error=None, interrupts=(), state=None, result={'messages': [HumanMessage(content='what is my name', additional_kwargs={}, response_metadata={}, id='3e9b6e08-b966-4cb1-9c2d-9478d09fa28d')]}),), interrupts=()),\n",
       " StateSnapshot(values={'messages': [HumanMessage(content='my name is amir ali', additional_kwargs={}, response_metadata={}, id='e8f7f5bf-0789-4070-83cf-3e0cf9cf6692'), AIMessage(content='Nice to meet you, Amir Ali! How are you doing today? Is there something I can help you with or would you like to chat?', additional_kwargs={}, response_metadata={'token_usage': {'completion_tokens': 30, 'prompt_tokens': 41, 'total_tokens': 71, 'completion_time': 0.054894086, 'prompt_time': 0.001814826, 'queue_time': 0.09070331599999999, 'total_time': 0.056708912}, 'model_name': 'llama-3.3-70b-versatile', 'system_fingerprint': 'fp_9a8b91ba77', 'finish_reason': 'stop', 'logprobs': None}, id='run--ed681af8-9994-491c-840c-eb8cb5a60513-0', usage_metadata={'input_tokens': 41, 'output_tokens': 30, 'total_tokens': 71})]}, next=(), config={'configurable': {'thread_id': '1', 'checkpoint_ns': '', 'checkpoint_id': '1f069dd0-7f61-668e-8001-cdb6773df7e9'}}, metadata={'source': 'loop', 'step': 1, 'parents': {}, 'thread_id': '1'}, created_at='2025-07-26T04:57:29.074241+00:00', parent_config={'configurable': {'thread_id': '1', 'checkpoint_ns': '', 'checkpoint_id': '1f069dd0-713c-6bca-8000-3123dfdca587'}}, tasks=(), interrupts=()),\n",
       " StateSnapshot(values={'messages': [HumanMessage(content='my name is amir ali', additional_kwargs={}, response_metadata={}, id='e8f7f5bf-0789-4070-83cf-3e0cf9cf6692')]}, next=('chatbot',), config={'configurable': {'thread_id': '1', 'checkpoint_ns': '', 'checkpoint_id': '1f069dd0-713c-6bca-8000-3123dfdca587'}}, metadata={'source': 'loop', 'step': 0, 'parents': {}, 'thread_id': '1'}, created_at='2025-07-26T04:57:27.591213+00:00', parent_config={'configurable': {'thread_id': '1', 'checkpoint_ns': '', 'checkpoint_id': '1f069dd0-7137-6d2f-bfff-502045d70f6b'}}, tasks=(PregelTask(id='fb3e153d-fd52-a93b-78aa-fb887937fd48', name='chatbot', path=('__pregel_pull', 'chatbot'), error=None, interrupts=(), state=None, result={'messages': [AIMessage(content='Nice to meet you, Amir Ali! How are you doing today? Is there something I can help you with or would you like to chat?', additional_kwargs={}, response_metadata={'token_usage': {'completion_tokens': 30, 'prompt_tokens': 41, 'total_tokens': 71, 'completion_time': 0.054894086, 'prompt_time': 0.001814826, 'queue_time': 0.09070331599999999, 'total_time': 0.056708912}, 'model_name': 'llama-3.3-70b-versatile', 'system_fingerprint': 'fp_9a8b91ba77', 'finish_reason': 'stop', 'logprobs': None}, id='run--ed681af8-9994-491c-840c-eb8cb5a60513-0', usage_metadata={'input_tokens': 41, 'output_tokens': 30, 'total_tokens': 71})]}),), interrupts=()),\n",
       " StateSnapshot(values={'messages': []}, next=('__start__',), config={'configurable': {'thread_id': '1', 'checkpoint_ns': '', 'checkpoint_id': '1f069dd0-7137-6d2f-bfff-502045d70f6b'}}, metadata={'source': 'input', 'step': -1, 'parents': {}, 'thread_id': '1'}, created_at='2025-07-26T04:57:27.589201+00:00', parent_config=None, tasks=(PregelTask(id='6366799c-3061-b28e-df80-a97becb7fc82', name='__start__', path=('__pregel_pull', '__start__'), error=None, interrupts=(), state=None, result={'messages': [HumanMessage(content='my name is amir ali', additional_kwargs={}, response_metadata={}, id='e8f7f5bf-0789-4070-83cf-3e0cf9cf6692')]}),), interrupts=())]"
      ]
     },
     "execution_count": 13,
     "metadata": {},
     "output_type": "execute_result"
    }
   ],
   "source": [
    "#Get the intermediate value of the state\n",
    "list(graph.get_state_history(config))"
   ]
  },
  {
   "cell_type": "code",
   "execution_count": null,
   "id": "01a5d192",
   "metadata": {},
   "outputs": [],
   "source": [
    "graph.stream()"
   ]
  }
 ],
 "metadata": {
  "kernelspec": {
   "display_name": "base",
   "language": "python",
   "name": "python3"
  },
  "language_info": {
   "codemirror_mode": {
    "name": "ipython",
    "version": 3
   },
   "file_extension": ".py",
   "mimetype": "text/x-python",
   "name": "python",
   "nbconvert_exporter": "python",
   "pygments_lexer": "ipython3",
   "version": "3.12.7"
  }
 },
 "nbformat": 4,
 "nbformat_minor": 5
}
