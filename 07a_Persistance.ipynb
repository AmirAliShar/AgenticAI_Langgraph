{
 "cells": [
  {
   "cell_type": "code",
   "execution_count": 11,
   "id": "a2ca6a3e",
   "metadata": {},
   "outputs": [],
   "source": [
    "from dotenv import load_dotenv\n",
    "import os\n",
    "from langchain_groq import ChatGroq\n",
    "load_dotenv()\n",
    "GROQ_API_KEY=os.environ.get(\"GROQ_API_KEY\")\n",
    "\n",
    "TRACELOOP_API_KEY= os.environ.get(\"TRACELOOP_API_KEY\")\n",
    "\n",
    "llm =ChatGroq(model =\"llama-3.3-70b-versatile\")\n"
   ]
  },
  {
   "cell_type": "code",
   "execution_count": 4,
   "id": "587efb44",
   "metadata": {},
   "outputs": [],
   "source": [
    "from langgraph.graph import MessagesState\n",
    "def ChatBot(state:MessagesState):\n",
    "    #Take user query\n",
    "    query = state[\"messages\"]\n",
    "    \n",
    "    #send to llm\n",
    "\n",
    "    response = llm.invoke(query)\n",
    "    #store to the state\n",
    "\n",
    "    return {\"messages\":[response]}"
   ]
  },
  {
   "cell_type": "code",
   "execution_count": 15,
   "id": "a4e4a3ae",
   "metadata": {},
   "outputs": [
    {
     "data": {
      "text/plain": [
       "<langgraph.graph.state.StateGraph at 0x21cb8bf57f0>"
      ]
     },
     "execution_count": 15,
     "metadata": {},
     "output_type": "execute_result"
    }
   ],
   "source": [
    "from langgraph.graph import StateGraph,START,END\n",
    "from langgraph.checkpoint.memory import InMemorySaver\n",
    "workflow =StateGraph(MessagesState)\n",
    "\n",
    "#Add the nodes\n",
    "workflow.add_node(\"chatbot\",ChatBot)\n",
    "# Add the edges\n",
    "workflow.add_edge(START,\"chatbot\")\n",
    "workflow.add_edge(\"chatbot\",END)\n"
   ]
  },
  {
   "cell_type": "code",
   "execution_count": null,
   "id": "e372826d",
   "metadata": {},
   "outputs": [
    {
     "data": {
      "text/plain": [
       "[HumanMessage(content='What is AI', additional_kwargs={}, response_metadata={}, id='101be6c1-7353-4207-9204-2e3349abf1ff'),\n",
       " AIMessage(content=\"**Artificial Intelligence (AI)** refers to the development of computer systems that can perform tasks that typically require human intelligence, such as:\\n\\n1. **Learning**: AI systems can learn from data, experiences, and interactions, enabling them to improve their performance over time.\\n2. **Reasoning**: AI systems can draw inferences, make decisions, and solve problems using logical and analytical methods.\\n3. **Problem-solving**: AI systems can identify and solve complex problems, often using trial and error or optimization techniques.\\n4. **Perception**: AI systems can interpret and understand data from sensors, images, speech, and text, allowing them to perceive and respond to their environment.\\n5. **Natural Language Processing (NLP)**: AI systems can understand, generate, and process human language, enabling applications like chatbots, virtual assistants, and language translation.\\n\\n**Types of AI:**\\n\\n1. **Narrow or Weak AI**: Designed to perform a specific task, such as image recognition, language translation, or playing chess.\\n2. **General or Strong AI**: Aims to create a machine that can perform any intellectual task that a human can, with capabilities similar to human intelligence.\\n3. **Superintelligence**: A hypothetical AI system that significantly surpasses human intelligence, potentially leading to significant benefits or risks.\\n\\n**AI Applications:**\\n\\n1. **Virtual Assistants**: Siri, Alexa, Google Assistant\\n2. **Image and Speech Recognition**: Facial recognition, voice assistants\\n3. **Natural Language Processing**: Language translation, text summarization\\n4. **Robotics**: Industrial automation, self-driving cars\\n5. **Healthcare**: Medical diagnosis, personalized medicine\\n6. **Finance**: Predictive analytics, portfolio management\\n\\n**AI Techniques:**\\n\\n1. **Machine Learning (ML)**: Training algorithms on data to make predictions or decisions.\\n2. **Deep Learning (DL)**: A subset of ML that uses neural networks to analyze complex data.\\n3. **Rule-Based Systems**: Using pre-defined rules to make decisions or classify data.\\n\\n**Challenges and Concerns:**\\n\\n1. **Bias and Fairness**: Ensuring AI systems are fair, transparent, and unbiased.\\n2. **Job Displacement**: The potential impact of AI on employment and the workforce.\\n3. **Security and Safety**: Protecting against AI-related risks, such as cyber attacks or autonomous vehicle accidents.\\n4. **Ethics and Governance**: Establishing guidelines and regulations for AI development and deployment.\\n\\nAs AI continues to evolve and improve, it's essential to address these challenges and concerns to ensure that AI benefits society as a whole.\", additional_kwargs={}, response_metadata={'token_usage': {'completion_tokens': 526, 'prompt_tokens': 38, 'total_tokens': 564, 'completion_time': 1.042924347, 'prompt_time': 0.002239678, 'queue_time': 0.048576112, 'total_time': 1.045164025}, 'model_name': 'llama-3.3-70b-versatile', 'system_fingerprint': 'fp_9e1e8f8435', 'service_tier': 'on_demand', 'finish_reason': 'stop', 'logprobs': None}, id='run--29dbf642-f66e-494e-b032-425a25eb07b6-0', usage_metadata={'input_tokens': 38, 'output_tokens': 526, 'total_tokens': 564})]"
      ]
     },
     "execution_count": 14,
     "metadata": {},
     "output_type": "execute_result"
    }
   ],
   "source": [
    "from langchain_core.runnables import RunnableConfig\n",
    "checkpointer = InMemorySaver()\n",
    "graph = workflow.compile(checkpointer=checkpointer)\n",
    "\n",
    "config: RunnableConfig = {\"configurable\": {\"thread_id\": \"1\"}}\n",
    "\n",
    "\n",
    "res=graph.invoke({\"messages\":\"What is AI\"},config)\n",
    "res[\"messages\"]"
   ]
  },
  {
   "cell_type": "markdown",
   "id": "555c3578",
   "metadata": {},
   "source": [
    "# Get the State"
   ]
  },
  {
   "cell_type": "code",
   "execution_count": 16,
   "id": "642d29a4",
   "metadata": {},
   "outputs": [
    {
     "data": {
      "text/plain": [
       "StateSnapshot(values={'messages': [HumanMessage(content='What is AI', additional_kwargs={}, response_metadata={}, id='101be6c1-7353-4207-9204-2e3349abf1ff'), AIMessage(content=\"**Artificial Intelligence (AI)** refers to the development of computer systems that can perform tasks that typically require human intelligence, such as:\\n\\n1. **Learning**: AI systems can learn from data, experiences, and interactions, enabling them to improve their performance over time.\\n2. **Reasoning**: AI systems can draw inferences, make decisions, and solve problems using logical and analytical methods.\\n3. **Problem-solving**: AI systems can identify and solve complex problems, often using trial and error or optimization techniques.\\n4. **Perception**: AI systems can interpret and understand data from sensors, images, speech, and text, allowing them to perceive and respond to their environment.\\n5. **Natural Language Processing (NLP)**: AI systems can understand, generate, and process human language, enabling applications like chatbots, virtual assistants, and language translation.\\n\\n**Types of AI:**\\n\\n1. **Narrow or Weak AI**: Designed to perform a specific task, such as image recognition, language translation, or playing chess.\\n2. **General or Strong AI**: Aims to create a machine that can perform any intellectual task that a human can, with capabilities similar to human intelligence.\\n3. **Superintelligence**: A hypothetical AI system that significantly surpasses human intelligence, potentially leading to significant benefits or risks.\\n\\n**AI Applications:**\\n\\n1. **Virtual Assistants**: Siri, Alexa, Google Assistant\\n2. **Image and Speech Recognition**: Facial recognition, voice assistants\\n3. **Natural Language Processing**: Language translation, text summarization\\n4. **Robotics**: Industrial automation, self-driving cars\\n5. **Healthcare**: Medical diagnosis, personalized medicine\\n6. **Finance**: Predictive analytics, portfolio management\\n\\n**AI Techniques:**\\n\\n1. **Machine Learning (ML)**: Training algorithms on data to make predictions or decisions.\\n2. **Deep Learning (DL)**: A subset of ML that uses neural networks to analyze complex data.\\n3. **Rule-Based Systems**: Using pre-defined rules to make decisions or classify data.\\n\\n**Challenges and Concerns:**\\n\\n1. **Bias and Fairness**: Ensuring AI systems are fair, transparent, and unbiased.\\n2. **Job Displacement**: The potential impact of AI on employment and the workforce.\\n3. **Security and Safety**: Protecting against AI-related risks, such as cyber attacks or autonomous vehicle accidents.\\n4. **Ethics and Governance**: Establishing guidelines and regulations for AI development and deployment.\\n\\nAs AI continues to evolve and improve, it's essential to address these challenges and concerns to ensure that AI benefits society as a whole.\", additional_kwargs={}, response_metadata={'token_usage': {'completion_tokens': 526, 'prompt_tokens': 38, 'total_tokens': 564, 'completion_time': 1.042924347, 'prompt_time': 0.002239678, 'queue_time': 0.048576112, 'total_time': 1.045164025}, 'model_name': 'llama-3.3-70b-versatile', 'system_fingerprint': 'fp_9e1e8f8435', 'service_tier': 'on_demand', 'finish_reason': 'stop', 'logprobs': None}, id='run--29dbf642-f66e-494e-b032-425a25eb07b6-0', usage_metadata={'input_tokens': 38, 'output_tokens': 526, 'total_tokens': 564})]}, next=(), config={'configurable': {'thread_id': '1', 'checkpoint_ns': '', 'checkpoint_id': '1f09edb5-f0a1-6832-8001-ec08abc08480'}}, metadata={'source': 'loop', 'step': 1, 'parents': {}}, created_at='2025-10-01T15:29:07.800888+00:00', parent_config={'configurable': {'thread_id': '1', 'checkpoint_ns': '', 'checkpoint_id': '1f09edb5-de3b-62a8-8000-dc721c75d31a'}}, tasks=(), interrupts=())"
      ]
     },
     "execution_count": 16,
     "metadata": {},
     "output_type": "execute_result"
    }
   ],
   "source": [
    "graph.get_state(config)"
   ]
  },
  {
   "cell_type": "code",
   "execution_count": 18,
   "id": "87dd8e4f",
   "metadata": {},
   "outputs": [
    {
     "data": {
      "text/plain": [
       "[StateSnapshot(values={'messages': [HumanMessage(content='What is AI', additional_kwargs={}, response_metadata={}, id='101be6c1-7353-4207-9204-2e3349abf1ff'), AIMessage(content=\"**Artificial Intelligence (AI)** refers to the development of computer systems that can perform tasks that typically require human intelligence, such as:\\n\\n1. **Learning**: AI systems can learn from data, experiences, and interactions, enabling them to improve their performance over time.\\n2. **Reasoning**: AI systems can draw inferences, make decisions, and solve problems using logical and analytical methods.\\n3. **Problem-solving**: AI systems can identify and solve complex problems, often using trial and error or optimization techniques.\\n4. **Perception**: AI systems can interpret and understand data from sensors, images, speech, and text, allowing them to perceive and respond to their environment.\\n5. **Natural Language Processing (NLP)**: AI systems can understand, generate, and process human language, enabling applications like chatbots, virtual assistants, and language translation.\\n\\n**Types of AI:**\\n\\n1. **Narrow or Weak AI**: Designed to perform a specific task, such as image recognition, language translation, or playing chess.\\n2. **General or Strong AI**: Aims to create a machine that can perform any intellectual task that a human can, with capabilities similar to human intelligence.\\n3. **Superintelligence**: A hypothetical AI system that significantly surpasses human intelligence, potentially leading to significant benefits or risks.\\n\\n**AI Applications:**\\n\\n1. **Virtual Assistants**: Siri, Alexa, Google Assistant\\n2. **Image and Speech Recognition**: Facial recognition, voice assistants\\n3. **Natural Language Processing**: Language translation, text summarization\\n4. **Robotics**: Industrial automation, self-driving cars\\n5. **Healthcare**: Medical diagnosis, personalized medicine\\n6. **Finance**: Predictive analytics, portfolio management\\n\\n**AI Techniques:**\\n\\n1. **Machine Learning (ML)**: Training algorithms on data to make predictions or decisions.\\n2. **Deep Learning (DL)**: A subset of ML that uses neural networks to analyze complex data.\\n3. **Rule-Based Systems**: Using pre-defined rules to make decisions or classify data.\\n\\n**Challenges and Concerns:**\\n\\n1. **Bias and Fairness**: Ensuring AI systems are fair, transparent, and unbiased.\\n2. **Job Displacement**: The potential impact of AI on employment and the workforce.\\n3. **Security and Safety**: Protecting against AI-related risks, such as cyber attacks or autonomous vehicle accidents.\\n4. **Ethics and Governance**: Establishing guidelines and regulations for AI development and deployment.\\n\\nAs AI continues to evolve and improve, it's essential to address these challenges and concerns to ensure that AI benefits society as a whole.\", additional_kwargs={}, response_metadata={'token_usage': {'completion_tokens': 526, 'prompt_tokens': 38, 'total_tokens': 564, 'completion_time': 1.042924347, 'prompt_time': 0.002239678, 'queue_time': 0.048576112, 'total_time': 1.045164025}, 'model_name': 'llama-3.3-70b-versatile', 'system_fingerprint': 'fp_9e1e8f8435', 'service_tier': 'on_demand', 'finish_reason': 'stop', 'logprobs': None}, id='run--29dbf642-f66e-494e-b032-425a25eb07b6-0', usage_metadata={'input_tokens': 38, 'output_tokens': 526, 'total_tokens': 564})]}, next=(), config={'configurable': {'thread_id': '1', 'checkpoint_ns': '', 'checkpoint_id': '1f09edb5-f0a1-6832-8001-ec08abc08480'}}, metadata={'source': 'loop', 'step': 1, 'parents': {}}, created_at='2025-10-01T15:29:07.800888+00:00', parent_config={'configurable': {'thread_id': '1', 'checkpoint_ns': '', 'checkpoint_id': '1f09edb5-de3b-62a8-8000-dc721c75d31a'}}, tasks=(), interrupts=()),\n",
       " StateSnapshot(values={'messages': [HumanMessage(content='What is AI', additional_kwargs={}, response_metadata={}, id='101be6c1-7353-4207-9204-2e3349abf1ff')]}, next=('chatbot',), config={'configurable': {'thread_id': '1', 'checkpoint_ns': '', 'checkpoint_id': '1f09edb5-de3b-62a8-8000-dc721c75d31a'}}, metadata={'source': 'loop', 'step': 0, 'parents': {}}, created_at='2025-10-01T15:29:05.871530+00:00', parent_config={'configurable': {'thread_id': '1', 'checkpoint_ns': '', 'checkpoint_id': '1f09edb5-de38-65a5-bfff-a438266cbe73'}}, tasks=(PregelTask(id='d752b57f-a509-bbda-8c4a-86abcca4bd72', name='chatbot', path=('__pregel_pull', 'chatbot'), error=None, interrupts=(), state=None, result={'messages': [AIMessage(content=\"**Artificial Intelligence (AI)** refers to the development of computer systems that can perform tasks that typically require human intelligence, such as:\\n\\n1. **Learning**: AI systems can learn from data, experiences, and interactions, enabling them to improve their performance over time.\\n2. **Reasoning**: AI systems can draw inferences, make decisions, and solve problems using logical and analytical methods.\\n3. **Problem-solving**: AI systems can identify and solve complex problems, often using trial and error or optimization techniques.\\n4. **Perception**: AI systems can interpret and understand data from sensors, images, speech, and text, allowing them to perceive and respond to their environment.\\n5. **Natural Language Processing (NLP)**: AI systems can understand, generate, and process human language, enabling applications like chatbots, virtual assistants, and language translation.\\n\\n**Types of AI:**\\n\\n1. **Narrow or Weak AI**: Designed to perform a specific task, such as image recognition, language translation, or playing chess.\\n2. **General or Strong AI**: Aims to create a machine that can perform any intellectual task that a human can, with capabilities similar to human intelligence.\\n3. **Superintelligence**: A hypothetical AI system that significantly surpasses human intelligence, potentially leading to significant benefits or risks.\\n\\n**AI Applications:**\\n\\n1. **Virtual Assistants**: Siri, Alexa, Google Assistant\\n2. **Image and Speech Recognition**: Facial recognition, voice assistants\\n3. **Natural Language Processing**: Language translation, text summarization\\n4. **Robotics**: Industrial automation, self-driving cars\\n5. **Healthcare**: Medical diagnosis, personalized medicine\\n6. **Finance**: Predictive analytics, portfolio management\\n\\n**AI Techniques:**\\n\\n1. **Machine Learning (ML)**: Training algorithms on data to make predictions or decisions.\\n2. **Deep Learning (DL)**: A subset of ML that uses neural networks to analyze complex data.\\n3. **Rule-Based Systems**: Using pre-defined rules to make decisions or classify data.\\n\\n**Challenges and Concerns:**\\n\\n1. **Bias and Fairness**: Ensuring AI systems are fair, transparent, and unbiased.\\n2. **Job Displacement**: The potential impact of AI on employment and the workforce.\\n3. **Security and Safety**: Protecting against AI-related risks, such as cyber attacks or autonomous vehicle accidents.\\n4. **Ethics and Governance**: Establishing guidelines and regulations for AI development and deployment.\\n\\nAs AI continues to evolve and improve, it's essential to address these challenges and concerns to ensure that AI benefits society as a whole.\", additional_kwargs={}, response_metadata={'token_usage': {'completion_tokens': 526, 'prompt_tokens': 38, 'total_tokens': 564, 'completion_time': 1.042924347, 'prompt_time': 0.002239678, 'queue_time': 0.048576112, 'total_time': 1.045164025}, 'model_name': 'llama-3.3-70b-versatile', 'system_fingerprint': 'fp_9e1e8f8435', 'service_tier': 'on_demand', 'finish_reason': 'stop', 'logprobs': None}, id='run--29dbf642-f66e-494e-b032-425a25eb07b6-0', usage_metadata={'input_tokens': 38, 'output_tokens': 526, 'total_tokens': 564})]}),), interrupts=()),\n",
       " StateSnapshot(values={'messages': []}, next=('__start__',), config={'configurable': {'thread_id': '1', 'checkpoint_ns': '', 'checkpoint_id': '1f09edb5-de38-65a5-bfff-a438266cbe73'}}, metadata={'source': 'input', 'step': -1, 'parents': {}}, created_at='2025-10-01T15:29:05.870378+00:00', parent_config=None, tasks=(PregelTask(id='ef0887f7-d1ac-676e-ac76-c8e09e9454df', name='__start__', path=('__pregel_pull', '__start__'), error=None, interrupts=(), state=None, result={'messages': 'What is AI'}),), interrupts=())]"
      ]
     },
     "execution_count": 18,
     "metadata": {},
     "output_type": "execute_result"
    }
   ],
   "source": [
    "#Get the history\n",
    "list(graph.get_state_history(config))"
   ]
  },
  {
   "cell_type": "code",
   "execution_count": null,
   "id": "eec287c2",
   "metadata": {},
   "outputs": [],
   "source": []
  }
 ],
 "metadata": {
  "kernelspec": {
   "display_name": "GenAI",
   "language": "python",
   "name": "python3"
  },
  "language_info": {
   "codemirror_mode": {
    "name": "ipython",
    "version": 3
   },
   "file_extension": ".py",
   "mimetype": "text/x-python",
   "name": "python",
   "nbconvert_exporter": "python",
   "pygments_lexer": "ipython3",
   "version": "3.12.11"
  }
 },
 "nbformat": 4,
 "nbformat_minor": 5
}
