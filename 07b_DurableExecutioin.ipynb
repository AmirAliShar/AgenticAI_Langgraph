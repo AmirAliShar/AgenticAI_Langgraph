{
 "cells": [
  {
   "cell_type": "code",
   "execution_count": 5,
   "id": "1d09299f",
   "metadata": {},
   "outputs": [],
   "source": [
    "from dotenv import load_dotenv\n",
    "import os\n",
    "from langchain_groq import ChatGroq\n",
    "load_dotenv()\n",
    "GROQ_API_KEY=os.environ.get(\"GROQ_API_KEY\")\n",
    "\n",
    "TRACELOOP_API_KEY= os.environ.get(\"TRACELOOP_API_KEY\")\n",
    "\n",
    "llm =ChatGroq(model =\"llama-3.3-70b-versatile\")\n",
    "\n",
    "from langchain_core.caches import InMemoryCache\n",
    "from langchain_core.globals import set_llm_cache\n",
    "set_llm_cache(InMemoryCache())\n"
   ]
  },
  {
   "cell_type": "code",
   "execution_count": 7,
   "id": "2943f0c7",
   "metadata": {},
   "outputs": [],
   "source": [
    "from langgraph.graph import MessagesState\n",
    "def ChatBot(state:MessagesState):\n",
    "    #Take user query\n",
    "    query = state[\"messages\"]\n",
    "    \n",
    "    #send to llm\n",
    "\n",
    "    response = llm.invoke(query).content\n",
    "    #store to the state\n",
    "\n",
    "    return {\"messages\":[response]}"
   ]
  },
  {
   "cell_type": "code",
   "execution_count": 8,
   "id": "732c1866",
   "metadata": {},
   "outputs": [],
   "source": [
    "from langgraph.graph import StateGraph,START,END\n",
    "from langgraph.checkpoint.memory import InMemorySaver\n",
    "workflow =StateGraph(MessagesState)\n",
    "\n",
    "#Add the nodes\n",
    "workflow.add_node(\"chatbot\",ChatBot)\n",
    "# Add the edges\n",
    "workflow.add_edge(START,\"chatbot\")\n",
    "workflow.add_edge(\"chatbot\",END)\n",
    "\n",
    "checkpointer=InMemorySaver()\n",
    "graph= workflow.compile(checkpointer=checkpointer)\n"
   ]
  },
  {
   "cell_type": "code",
   "execution_count": null,
   "id": "7b69e826",
   "metadata": {},
   "outputs": [
    {
     "data": {
      "text/plain": [
       "[HumanMessage(content='I am amir ali', additional_kwargs={}, response_metadata={}, id='2f472178-e8be-4628-bdbe-f2a6f38e4a3e'),\n",
       " HumanMessage(content=\"Hello Amir Ali, it's nice to meet you. Is there something I can help you with or would you like to chat?\", additional_kwargs={}, response_metadata={}, id='75ae0ba4-ada7-4b41-bc35-07fab96c3e03')]"
      ]
     },
     "execution_count": 10,
     "metadata": {},
     "output_type": "execute_result"
    }
   ],
   "source": [
    "from langchain_core.runnables import RunnableConfig\n",
    "import uuid\n",
    "thread_id=uuid.uuid4()\n",
    "config: RunnableConfig = {\"configurable\": {\"thread_id\": thread_id}}\n",
    "\n",
    "\n",
    "res=graph.invoke({\"messages\":\"I am amir ali\"},config)\n",
    "res"
   ]
  },
  {
   "cell_type": "code",
   "execution_count": 13,
   "id": "c461171b",
   "metadata": {},
   "outputs": [
    {
     "data": {
      "text/plain": [
       "{'messages': [HumanMessage(content='I am amir ali', additional_kwargs={}, response_metadata={}, id='2f472178-e8be-4628-bdbe-f2a6f38e4a3e'),\n",
       "  HumanMessage(content=\"Hello Amir Ali, it's nice to meet you. Is there something I can help you with or would you like to chat?\", additional_kwargs={}, response_metadata={}, id='75ae0ba4-ada7-4b41-bc35-07fab96c3e03'),\n",
       "  HumanMessage(content='I am amir ali', additional_kwargs={}, response_metadata={}, id='b7989ec8-a08f-4949-b8ba-c6d4e5812fb4'),\n",
       "  HumanMessage(content=\"Hello again, Amir Ali. It seems like you're introducing yourself. That's great! I'm happy to meet you. Is there something on your mind that you'd like to talk about, or perhaps a question you have? I'm all ears and here to help.\", additional_kwargs={}, response_metadata={}, id='b49e8136-a56e-4fc1-813c-6c31348cd745'),\n",
       "  HumanMessage(content='I am amir ali', additional_kwargs={}, response_metadata={}, id='a7a94fa7-0b9d-42e7-8986-9fa711320ffa'),\n",
       "  HumanMessage(content=\"Hello Amir Ali, I think we've established that already. You've introduced yourself a few times. I'm starting to wonder, is everything okay? Would you like to talk about something specific or just chat for a bit? I'm here to listen and help if I can.\", additional_kwargs={}, response_metadata={}, id='0f7282c4-c93f-452d-b02f-640f4b3a165d'),\n",
       "  HumanMessage(content='What is My name ?', additional_kwargs={}, response_metadata={}, id='869e7918-bf6a-4785-b731-10504400ea47'),\n",
       "  HumanMessage(content=\"Your name is Amir Ali. You've mentioned it a few times already. Is that correct?\", additional_kwargs={}, response_metadata={}, id='8c7b36a6-ba61-4b36-8dd0-62bc2c79b704')]}"
      ]
     },
     "execution_count": 13,
     "metadata": {},
     "output_type": "execute_result"
    }
   ],
   "source": [
    "res=graph.invoke({\"messages\":\"What is My name ?\"},config,durablility='async')\n",
    "res"
   ]
  },
  {
   "cell_type": "code",
   "execution_count": null,
   "id": "29545acb",
   "metadata": {},
   "outputs": [],
   "source": []
  }
 ],
 "metadata": {
  "kernelspec": {
   "display_name": "GenAI",
   "language": "python",
   "name": "python3"
  },
  "language_info": {
   "codemirror_mode": {
    "name": "ipython",
    "version": 3
   },
   "file_extension": ".py",
   "mimetype": "text/x-python",
   "name": "python",
   "nbconvert_exporter": "python",
   "pygments_lexer": "ipython3",
   "version": "3.12.11"
  }
 },
 "nbformat": 4,
 "nbformat_minor": 5
}
