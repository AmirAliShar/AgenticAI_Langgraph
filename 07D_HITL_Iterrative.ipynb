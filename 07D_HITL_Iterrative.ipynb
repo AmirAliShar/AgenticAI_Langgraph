{
 "cells": [
  {
   "cell_type": "code",
   "execution_count": null,
   "id": "aac60c33",
   "metadata": {},
   "outputs": [],
   "source": [
    "#ignore the warnings\n",
    "import warnings\n",
    "warnings.filterwarnings(\"ignore\")\n",
    "\n",
    "from dotenv import load_dotenv\n",
    "import os\n",
    "from langchain_groq import ChatGroq\n",
    "load_dotenv()\n",
    "GROQ_API_KEY = os.environ.get(\"GROQ_API_KEY\")\n",
    "\n",
    "# Initilize the LLM\n",
    "llm =ChatGroq(model =\"llama-3.3-70b-versatile\")\n",
    "\n",
    "#Set the Cache\n",
    "from langchain_core.caches import InMemoryCache\n",
    "from langchain_core.globals import set_llm_cache\n",
    "set_llm_cache(InMemoryCache())"
   ]
  },
  {
   "cell_type": "code",
   "execution_count": 10,
   "id": "50bf1d38",
   "metadata": {},
   "outputs": [],
   "source": [
    "# Define the shared graph state\n",
    "from typing import TypedDict, Literal,List,Annotated\n",
    "from langgraph.graph import add_messages\n",
    "\n",
    "class State(TypedDict):\n",
    "    message:str\n",
    "    feedback:Annotated[List[str],add_messages]\n",
    "    response:Annotated[List[str],add_messages]"
   ]
  },
  {
   "cell_type": "code",
   "execution_count": null,
   "id": "286ac5dd",
   "metadata": {},
   "outputs": [],
   "source": [
    "from langchain_core.messages import HumanMessage, AIMessage, SystemMessage\n",
    "\n",
    "def Model(state: State):\n",
    "    # Get the latest message and decision safely\n",
    "    \n",
    "    feedback = state[\"feedback\"][-1] if state[\"feedback\"] else \"No previous feedback\"\n",
    "\n",
    "    prompt = f\"\"\"\n",
    "You are an expert Fiverr proposal writer skilled in crafting winning, client-focused proposals.  \n",
    "Your goal is to write a professional, customized Fiverr proposal based on the user's project description.\n",
    "\n",
    "Instructions:\n",
    "- Carefully read the user's project requirements.  \n",
    "- Write a clear, engaging, and persuasive proposal under 100 words.  \n",
    "- Emphasize Amir Ali’s expertise in AI, Data Science, Machine Learning, Deep Learning, NLP, Generative AI, and Agentic AI.  \n",
    "- Maintain a confident, friendly, and professional tone that inspires trust.  \n",
    "- If previous feedback is available, naturally incorporate it into the new proposal.  \n",
    "- Avoid generic phrases like “I can do this job perfectly” — focus instead on *value, understanding, and results.*\n",
    "\n",
    "User Project Details:\n",
    "{state[\"message\"]}\n",
    "\n",
    "Previous Feedback:\n",
    "{feedback}\n",
    "\n",
    "Example Proposals for Reference:\n",
    "1. \"Hi there! I’ll develop a powerful AI-driven solution tailored to your needs. With 3+ years of experience in Machine Learning and NLP, I’ll ensure accurate, efficient, and scalable results. Let’s turn your idea into reality!\"\n",
    "\n",
    "2. \"Hello! I specialize in building intelligent systems using Deep Learning and Generative AI. I’ll design a custom model to meet your exact project goals with clear documentation and ongoing support.\"\n",
    "\n",
    "Now, write the best Fiverr proposal for the given project.\n",
    "\"\"\"\n",
    "\n",
    "\n",
    "    # Invoke the LLM\n",
    "    result = llm.invoke([\n",
    "        SystemMessage(content=\"You are a professional Fiverr proposal writer who crafts personalized, persuasive, and concise proposals under 100 words based on user requirements and feedback\"),\n",
    "        HumanMessage(content=prompt)\n",
    "    ])\n",
    "\n",
    "    response_text = result.content\n",
    "\n",
    "    print(\"Response\",response_text)\n",
    "\n",
    "    # Return updated state\n",
    "    return {\n",
    "        \"response\": [AIMessage(content=response_text)],\n",
    "    }"
   ]
  },
  {
   "cell_type": "code",
   "execution_count": 12,
   "id": "60a61237",
   "metadata": {},
   "outputs": [],
   "source": [
    "from langgraph.types import Command,interrupt\n",
    "# Human approval node\n",
    "def Human_approval(state:State) -> Command[Literal[\"approved_path\",\"model\"]]:\n",
    "    user_feedback=interrupt({\n",
    "        \"question\":\"Do you approve this response?\",\n",
    "        \"response\":state[\"response\"]\n",
    "    })\n",
    "\n",
    "    if user_feedback == \"done\":\n",
    "        return Command( update={\"feedback\":state[\"feedback\"]}, goto = \"approved_path\")\n",
    "    \n",
    "    return Command(update={\"feedback\":state[\"feedback\"] + [user_feedback]}, goto=\"model\")\n"
   ]
  },
  {
   "cell_type": "code",
   "execution_count": 13,
   "id": "476d142f",
   "metadata": {},
   "outputs": [],
   "source": [
    "def approved_node(state:State):\n",
    "    \n",
    "    feedback=state['feedback']\n",
    "\n",
    "    print(\"Final response :\",state['response'][-1])\n",
    "    print(\"Human Feedback \",feedback)\n",
    "\n",
    "    return {\n",
    "        \"response\":state['response'][-1],\n",
    "        \"feedback\":feedback\n",
    "    }"
   ]
  },
  {
   "cell_type": "code",
   "execution_count": 14,
   "id": "8b13cc4e",
   "metadata": {},
   "outputs": [],
   "source": [
    "from langgraph.graph import START,StateGraph,END\n",
    "from langgraph.checkpoint.memory import InMemorySaver\n",
    "\n",
    "workflow=StateGraph(State)\n",
    "\n",
    "workflow.add_node(\"model\",Model)\n",
    "workflow.add_node(\"Human_approval\",Human_approval)\n",
    "workflow.add_node(\"approved_path\",approved_node)\n",
    "\n",
    "\n",
    "workflow.add_edge(START,\"model\")\n",
    "workflow.add_edge(\"model\",\"Human_approval\")\n",
    "workflow.add_conditional_edges(\"Human_approval\",Human_approval)\n",
    "workflow.add_edge(\"approved_path\",END)\n",
    "\n",
    "checkpointer=InMemorySaver()\n",
    "graph=workflow.compile(checkpointer=checkpointer)"
   ]
  },
  {
   "cell_type": "code",
   "execution_count": 15,
   "id": "7e2d23b8",
   "metadata": {},
   "outputs": [
    {
     "data": {
      "image/png": "[encoded data removed]",
      "text/plain": [
       "<IPython.core.display.Image object>"
      ]
     },
     "metadata": {},
     "output_type": "display_data"
    }
   ],
   "source": [
    "from IPython.display import Image,display\n",
    "display(Image(graph.get_graph(xray=True).draw_mermaid_png()))"
   ]
  },
  {
   "cell_type": "code",
   "execution_count": 17,
   "id": "9b366bfc",
   "metadata": {},
   "outputs": [
    {
     "name": "stdout",
     "output_type": "stream",
     "text": [
      "Response  \"Hi, I'm Amir Ali. I'll optimize your multi-agent system using LangChain and LangGraph, leveraging my expertise in AI, Data Science, and NLP. I'll refine context-aware reasoning flows and dynamic RAG pipelines, ensuring seamless communication between AI agents and APIs, and delivering a scalable framework for intelligent workflow orchestration.\"\n"
     ]
    },
    {
     "name": "stderr",
     "output_type": "stream",
     "text": [
      "Task Human_approval with path ('__pregel_pull', 'Human_approval') wrote to unknown channel branch:to:Command(update={'feedback': [HumanMessage(content='Yes, I will do this perfectly. and deliever in the 5 days.', additional_kwargs={}, response_metadata={}, id='dfd0afe3-ef9e-4ffe-bfda-91d9628227e1')]}, goto='approved_path'), ignoring it.\n"
     ]
    },
    {
     "name": "stdout",
     "output_type": "stream",
     "text": [
      "Response  \"Hi! I'm Amir Ali, expert in AI, Data Science, and Machine Learning. I'll develop and optimize a LangChain and LangGraph-based multi-agent system, leveraging my expertise in NLP and Generative AI to deliver a scalable and production-ready framework for seamless AI agent and API communication, exceeding your expectations.\"\n"
     ]
    }
   ],
   "source": [
    "import uuid\n",
    "thread_config = {\"configurable\": {\n",
    "    \"thread_id\": uuid.uuid4()\n",
    "}}\n",
    "\n",
    "#message = input(\"Enter your proposal requirements:\")\n",
    "\n",
    "message=\"\"\"\n",
    "Developed and optimized a LangChain and LangGraph-based\n",
    "multi-agent system for intelligent workflow orchestration.\n",
    "Designed context-aware reasoning flows, implemented dynamic\n",
    "RAG pipelines, and integrated LLM-powered agents for complex\n",
    "task execution. Delivered a scalable and production-ready \n",
    "framework enabling seamless communication between multiple AI\n",
    "agents and APIs.\n",
    "\"\"\"\n",
    "\n",
    "initial_state = {\n",
    "    \"message\": message, \n",
    "    \"response\": [], \n",
    "    \"feedback\": []\n",
    "}\n",
    "\n",
    "for chunk in graph.stream(initial_state, config=thread_config):\n",
    "    for node_id, value in chunk.items():\n",
    "        #  If we reach an interrupt, continuously ask for human feedback\n",
    "\n",
    "        if(node_id == \"__interrupt__\"):\n",
    "            while True: \n",
    "                user_feedback = input(\"Provide feedback (or type 'done' when finished): \")\n",
    "\n",
    "                # Resume the graph execution with the user's feedback\n",
    "                graph.invoke(Command(resume=user_feedback), config=thread_config)\n",
    "\n",
    "                # Exit loop if user says done\n",
    "                if user_feedback.lower() == \"done\":\n",
    "                    break"
   ]
  }
 ],
 "metadata": {
  "kernelspec": {
   "display_name": "GenAI",
   "language": "python",
   "name": "python3"
  },
  "language_info": {
   "codemirror_mode": {
    "name": "ipython",
    "version": 3
   },
   "file_extension": ".py",
   "mimetype": "text/x-python",
   "name": "python",
   "nbconvert_exporter": "python",
   "pygments_lexer": "ipython3",
   "version": "3.12.11"
  }
 },
 "nbformat": 4,
 "nbformat_minor": 5
}
