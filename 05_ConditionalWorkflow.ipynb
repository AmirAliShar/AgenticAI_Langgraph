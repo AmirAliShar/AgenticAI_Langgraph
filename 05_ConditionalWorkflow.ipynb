{
 "cells": [
  {
   "cell_type": "markdown",
   "id": "2585dc45",
   "metadata": {},
   "source": [
    "# Non LLM Based workflow"
   ]
  },
  {
   "cell_type": "code",
   "execution_count": 3,
   "id": "d84c36fb",
   "metadata": {},
   "outputs": [],
   "source": [
    "#State\n",
    "\n",
    "from typing import TypedDict,Literal\n",
    "\n",
    "class State(TypedDict):\n",
    "    a:int\n",
    "    b:int\n",
    "    c:int\n",
    "\n",
    "    equation: str\n",
    "    Discriminant:float\n",
    "    result:str\n",
    "    summary:str\n"
   ]
  },
  {
   "cell_type": "code",
   "execution_count": 4,
   "id": "64262a8c",
   "metadata": {},
   "outputs": [],
   "source": [
    "#Create the function to show the equation\n",
    "\n",
    "def Equation(state: State):\n",
    "\n",
    "    equation=f\"equation = {state[\"a\"]}x^2 {state['b']}x {state['c']}\"\n",
    "\n",
    "    return {\"equation\":equation}\n"
   ]
  },
  {
   "cell_type": "markdown",
   "id": "c0d911e2",
   "metadata": {},
   "source": [
    "Discriminant > 0: The equation has two distinct real roots.   \n",
    "Discriminant = 0: The equation has exactly one real root (also known as a repeated or equal root).   \n",
    "Discriminant < 0: The equation has two distinct imaginary roots (or no real roots). "
   ]
  },
  {
   "cell_type": "code",
   "execution_count": 5,
   "id": "f59c2f09",
   "metadata": {},
   "outputs": [],
   "source": [
    "#For descriment\n",
    "\n",
    "def Discriminant(state:State):\n",
    "\n",
    "    #d=b*2-4ac\n",
    "    d = ((state['b']**2) - 4*(state['a']*state['c']))\n",
    "\n",
    "    return {\"Discriminant\":d}\n",
    "\n",
    "def RealRoots(state:State):\n",
    "     #x = (-b ± √D) / 2a\n",
    "    r1= (-state['b'] + state['Discriminant']**0.5) /(2*state['a'])\n",
    "    r2= (-state['b'] - state['Discriminant']**0.5) /(2*state['a'])\n",
    "\n",
    "    result =f\"Roots of are R1 = {r1} \\n R2 = {r2} \"\n",
    "\n",
    "    return {\"result\":result}\n",
    "\n",
    "def OneRealRoots(state: State):\n",
    "\n",
    "    # x= -b/2a\n",
    "    r = -(state[\"b\"]) / 2*(state[\"a\"])\n",
    "\n",
    "    result =f\"The equation has exactly one real root {r}\"\n",
    "\n",
    "    return {\"result\":result}\n",
    "\n",
    "def NORealRoots(stae: State):\n",
    "    \n",
    "    result =\"No real Roots\"\n",
    "\n",
    "    return {\"result\":result}"
   ]
  },
  {
   "cell_type": "code",
   "execution_count": 6,
   "id": "d8ba698a",
   "metadata": {},
   "outputs": [],
   "source": [
    "# add the condition\n",
    "def conditional_condition(state:State) -> Literal[\"RealRoots\",\"OneRealRoots\",\"NORealRoots\"]:\n",
    "    if state[\"Discriminant\"] > 0:\n",
    "        return \"RealRoots\"\n",
    "    elif state[\"Discriminant\"] == 0:\n",
    "        return {\"OneRealRoot\"}\n",
    "    else:\n",
    "        return {\"NORealRoot\"}\n",
    "    "
   ]
  },
  {
   "cell_type": "code",
   "execution_count": 7,
   "id": "b69fbe8c",
   "metadata": {},
   "outputs": [],
   "source": [
    "#StateGraph\n",
    "from langgraph.graph import StateGraph,START,END\n",
    "\n",
    "workflow=StateGraph(State)"
   ]
  },
  {
   "cell_type": "code",
   "execution_count": 8,
   "id": "75577e51",
   "metadata": {},
   "outputs": [
    {
     "data": {
      "text/plain": [
       "<langgraph.graph.state.StateGraph at 0x27aefd7f7a0>"
      ]
     },
     "execution_count": 8,
     "metadata": {},
     "output_type": "execute_result"
    }
   ],
   "source": [
    "workflow.add_node(\"Equation\",Equation)\n",
    "workflow.add_node(\"Discriminant\",Discriminant)\n",
    "workflow.add_node(\"RealRoots\",RealRoots)\n",
    "workflow.add_node(\"OneRealRoots\",OneRealRoots)\n",
    "workflow.add_node(\"NORealRoots\",NORealRoots)"
   ]
  },
  {
   "cell_type": "code",
   "execution_count": 9,
   "id": "ab1b632c",
   "metadata": {},
   "outputs": [],
   "source": [
    "\n",
    "workflow.add_edge(START,\"Equation\")\n",
    "workflow.add_edge(\"Equation\",\"Discriminant\")\n",
    "workflow.add_conditional_edges(\"Discriminant\",conditional_condition)\n",
    "\n",
    "workflow.add_edge(\"RealRoots\",END)\n",
    "workflow.add_edge(\"OneRealRoots\",END)\n",
    "workflow.add_edge(\"NORealRoots\",END)\n",
    "graph=workflow.compile()"
   ]
  },
  {
   "cell_type": "code",
   "execution_count": 10,
   "id": "e6ade977",
   "metadata": {},
   "outputs": [],
   "source": [
    "initial_input={\"a\":4,\"b\":-5,\"c\":-4}"
   ]
  },
  {
   "cell_type": "code",
   "execution_count": 11,
   "id": "b7aa00d3",
   "metadata": {},
   "outputs": [
    {
     "data": {
      "text/plain": [
       "{'a': 4,\n",
       " 'b': -5,\n",
       " 'c': -4,\n",
       " 'equation': 'equation = 4x^2 -5x -4',\n",
       " 'Discriminant': 89,\n",
       " 'result': 'Roots of are R1 = 1.8042476415070754 \\n R2 = -0.5542476415070754 '}"
      ]
     },
     "execution_count": 11,
     "metadata": {},
     "output_type": "execute_result"
    }
   ],
   "source": [
    "graph.invoke(initial_input)"
   ]
  },
  {
   "cell_type": "markdown",
   "id": "74394943",
   "metadata": {},
   "source": [
    "# LLM Based Workflow"
   ]
  },
  {
   "cell_type": "code",
   "execution_count": 1,
   "id": "4cff023e",
   "metadata": {},
   "outputs": [],
   "source": [
    "from dotenv import load_dotenv\n",
    "import os\n",
    "from langchain_groq import ChatGroq\n",
    "load_dotenv()\n",
    "GROQ_API_KEY=os.environ.get(\"GROQ_API_KEY\")\n",
    "\n",
    "TRACELOOP_API_KEY= os.environ.get(\"TRACELOOP_API_KEY\")\n",
    "\n",
    "llm =ChatGroq(model =\"llama-3.3-70b-versatile\")\n",
    "\n",
    "# Set inmemory llm cache\n",
    "from langgraph.cache.memory import InMemoryCache"
   ]
  },
  {
   "cell_type": "code",
   "execution_count": 2,
   "id": "7a565146",
   "metadata": {},
   "outputs": [],
   "source": [
    "# Define the Schema\n",
    "from pydantic import BaseModel, Field\n",
    "from typing import Literal,TypedDict\n",
    "\n",
    "class SentimentSchema(BaseModel):\n",
    "    sentiment:Literal[\"Positive\",\"Negative\"] = Field(description = \"Sentiment of the review\")\n",
    "\n",
    "\n",
    "class ReviewSchema(TypedDict):\n",
    "    sentiment:Literal[\"Positive\",\"Negative\"]\n",
    "    response:str\n",
    "    review:str\n",
    "    diagnosis:dict\n",
    "    \n",
    "\n",
    "class DiagnosisSchema(BaseModel):\n",
    "    issue_type: Literal[\"UX\", \"Performance\", \"Bug\", \"Support\", \"Other\"] = Field(description='The category of issue mentioned in the review')\n",
    "    tone: Literal[\"angry\", \"frustrated\", \"disappointed\", \"calm\"] = Field(description='The emotional tone expressed by the user')\n",
    "    urgency: Literal[\"low\", \"medium\", \"high\"] = Field(description='How urgent or critical the issue appears to be')"
   ]
  },
  {
   "cell_type": "code",
   "execution_count": 3,
   "id": "87277f5c",
   "metadata": {},
   "outputs": [],
   "source": [
    "model1=llm.with_structured_output(SentimentSchema)\n",
    "\n",
    "model2=llm.with_structured_output(DiagnosisSchema)"
   ]
  },
  {
   "cell_type": "code",
   "execution_count": 22,
   "id": "08e9cc6b",
   "metadata": {},
   "outputs": [],
   "source": [
    "def FindSentiment(state:ReviewSchema):\n",
    "    prompt=f\"For the following review find out the sentiment \\n {state[\"review\"]}\"\n",
    "    sentiment= model1.invoke(prompt).sentiment\n",
    "\n",
    "    return {\"sentiment\":sentiment}\n",
    "\n",
    "def check_condition(state: ReviewSchema) -> Literal[\"PositiveResponse\",\"RunDiagnosis\"]:\n",
    "\n",
    "    if state[\"review\"] == \"positive\":\n",
    "        return \"PositiveResponse\"\n",
    "    else:\n",
    "        return \"RunDiagnosis\"\n",
    "\n",
    "def PositiveResponse(state:ReviewSchema):\n",
    "    prompt = f\"\"\"Write a warm thank-you message in response to this review:\n",
    "    \"{state['review']}\"\n",
    "    Also, kindly ask the user to leave feedback on our website.\"\"\" \n",
    "    \n",
    "    response =llm.invoke(prompt).content\n",
    "\n",
    "    return {\"response\":response}\n",
    "\n",
    "def RunDiagnosis(state:ReviewSchema):\n",
    "    prompt = f\"\"\"Diagnose this negative review: {state['review']}\\n\"\n",
    "    \"Return issue_type, tone, and urgency.\n",
    "     \"\"\"\n",
    "    \n",
    "    response = model2.invoke(prompt) # Return the JSON \n",
    "\n",
    "    return {\"diagnosis\":response.model_dump()} #return dict\n",
    "\n",
    "def NegativeResponse(state:ReviewSchema):\n",
    "    \n",
    "    diagnosis=state[\"diagnosis\"]\n",
    "    prompt = f\"\"\"You are a support assistant.\n",
    "        The user had a '{diagnosis['issue_type']}' issue, sounded '{diagnosis['tone']}', and marked urgency as '{diagnosis['urgency']}'.\n",
    "        Write an empathetic, helpful resolution message.\n",
    "        \"\"\"\n",
    "    response =llm.invoke(prompt).content\n",
    "    return {\"response\":response}\n"
   ]
  },
  {
   "cell_type": "code",
   "execution_count": 23,
   "id": "b46144bd",
   "metadata": {},
   "outputs": [],
   "source": [
    "from langgraph.graph import StateGraph,START,END\n",
    "workflow=StateGraph(ReviewSchema)\n",
    "\n",
    "workflow.add_node(\"sentiment\",FindSentiment)\n",
    "workflow.add_node(\"PositiveResponse\",PositiveResponse)\n",
    "workflow.add_node(\"RunDiagnosis\",RunDiagnosis)\n",
    "workflow.add_node(\"NegativeResponse\",NegativeResponse)\n",
    "\n",
    "workflow.add_edge(START,\"sentiment\")\n",
    "workflow.add_conditional_edges(\"sentiment\",check_condition)\n",
    "workflow.add_edge(\"PositiveResponse\",END)\n",
    "workflow.add_edge(\"RunDiagnosis\",\"NegativeResponse\")\n",
    "workflow.add_edge(\"NegativeResponse\",END)\n",
    "\n",
    "memory =InMemoryCache()\n",
    "graph=workflow.compile(cache=memory)"
   ]
  },
  {
   "cell_type": "code",
   "execution_count": 24,
   "id": "b41c8da3",
   "metadata": {},
   "outputs": [
    {
     "data": {
      "image/png": "[encoded data removed]",
      "text/plain": [
       "<IPython.core.display.Image object>"
      ]
     },
     "metadata": {},
     "output_type": "display_data"
    }
   ],
   "source": [
    "from IPython.display import display, Image\n",
    "display(Image(graph.get_graph().draw_mermaid_png()))\n"
   ]
  },
  {
   "cell_type": "code",
   "execution_count": 25,
   "id": "c99638eb",
   "metadata": {},
   "outputs": [
    {
     "data": {
      "text/plain": [
       "{'sentiment': 'Negative',\n",
       " 'response': \"I'm so sorry to hear that you're experiencing a bug issue and that it's causing frustration for you. I can imagine how annoying and time-consuming it must be, and I want to assure you that I'm here to help resolve the issue as quickly as possible.\\n\\nI've marked this issue as high priority, and I'll do my best to provide a prompt and effective solution. Can you please provide me with more details about the bug, such as the steps you took leading up to the issue, any error messages you've received, and what you've tried so far to resolve it? This will help me better understand the problem and work towards a resolution.\\n\\nIn the meantime, I want to offer you a sincere apology for the inconvenience this has caused and appreciate your patience and cooperation. Your satisfaction is my top priority, and I'm committed to getting this issue resolved for you.\\n\\nIf there's anything else I can do to make things right, please don't hesitate to let me know. I'm here to listen and help in any way I can. Thank you for bringing this to my attention, and I look forward to working with you to find a solution.\\n\\nPlease let me know if you have any further questions or concerns, and I'll be happy to assist you. I'll keep you updated on the progress and will notify you as soon as the issue is resolved.\",\n",
       " 'review': 'I’ve been trying to log in for over an hour now, and the app keeps freezing on the authentication screen. I even tried reinstalling it, but no luck. This kind of bug is unacceptable, especially when it affects basic functionality.',\n",
       " 'diagnosis': {'issue_type': 'Bug', 'tone': 'angry', 'urgency': 'high'}}"
      ]
     },
     "execution_count": 25,
     "metadata": {},
     "output_type": "execute_result"
    }
   ],
   "source": [
    "initial = {\"review\":'I’ve been trying to log in for over an hour now, and the app keeps freezing on the authentication screen. I even tried reinstalling it, but no luck. This kind of bug is unacceptable, especially when it affects basic functionality.',}\n",
    "graph.invoke(initial)\n"
   ]
  },
  {
   "cell_type": "code",
   "execution_count": null,
   "id": "63e306cb",
   "metadata": {},
   "outputs": [],
   "source": []
  }
 ],
 "metadata": {
  "kernelspec": {
   "display_name": "base",
   "language": "python",
   "name": "python3"
  },
  "language_info": {
   "codemirror_mode": {
    "name": "ipython",
    "version": 3
   },
   "file_extension": ".py",
   "mimetype": "text/x-python",
   "name": "python",
   "nbconvert_exporter": "python",
   "pygments_lexer": "ipython3",
   "version": "3.12.7"
  }
 },
 "nbformat": 4,
 "nbformat_minor": 5
}
