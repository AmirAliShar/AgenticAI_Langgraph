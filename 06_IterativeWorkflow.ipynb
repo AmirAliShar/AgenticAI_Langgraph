{
 "cells": [
  {
   "cell_type": "code",
   "execution_count": 1,
   "id": "03c4f1fd",
   "metadata": {},
   "outputs": [],
   "source": [
    "from dotenv import load_dotenv\n",
    "import os\n",
    "from langchain_groq import ChatGroq\n",
    "load_dotenv()\n",
    "GROQ_API_KEY=os.environ.get(\"GROQ_API_KEY\")\n",
    "\n",
    "TRACELOOP_API_KEY= os.environ.get(\"TRACELOOP_API_KEY\")\n",
    "\n",
    "llm =ChatGroq(model =\"llama-3.3-70b-versatile\")\n",
    "\n",
    "# Set inmemory llm cache\n",
    "from langgraph.cache.memory import InMemoryCache"
   ]
  },
  {
   "cell_type": "code",
   "execution_count": 2,
   "id": "e99fb0b2",
   "metadata": {},
   "outputs": [],
   "source": [
    "from typing import TypedDict,Literal,Annotated\n",
    "from pydantic import BaseModel,Field\n",
    "import operator\n",
    "\n",
    "class TweetState(TypedDict):\n",
    "    topic :str\n",
    "    tweet: str\n",
    "    evaluation: Literal[\"Approved\",\"Need_Improvement\"]\n",
    "    feedback :str\n",
    "    iteration: int\n",
    "    max_iteration: int\n",
    "    tweet_history: Annotated[list[str],operator.add]\n",
    "    feedback_history: Annotated[list[str],operator.add]\n",
    "\n",
    "\n",
    "class TweetEvaluatior(BaseModel):\n",
    "    evaluation:Literal[\"Approved\",\"Need_Improvement\"]= Field(...,descripton =\"Final Evaluation Result\")\n",
    "    feedback: str = Field(...,description = \"Feedback for tweet\") "
   ]
  },
  {
   "cell_type": "code",
   "execution_count": 3,
   "id": "1bdae7e8",
   "metadata": {},
   "outputs": [],
   "source": [
    "structured_evaluation_llm=llm.with_structured_output(TweetEvaluatior)"
   ]
  },
  {
   "cell_type": "code",
   "execution_count": 4,
   "id": "6f77c52d",
   "metadata": {},
   "outputs": [],
   "source": [
    "#Tweet Generator\n",
    "from langchain_core.messages import SystemMessage,HumanMessage\n",
    "def Generator(state:TweetState):\n",
    "    messages = [\n",
    "        SystemMessage(content=\"You are a funny and clever Twitter/X influencer.\"),\n",
    "        HumanMessage(content=f\"\"\"\n",
    "Write a short, original, and hilarious tweet on the topic: \"{state['topic']}\".\n",
    "\n",
    "Rules:\n",
    "- Do NOT use question-answer format. \n",
    "- Max 280 characters.\n",
    "- Use observational humor, irony, sarcasm, or cultural references.\n",
    "- Think in meme logic, punchlines, or relatable takes.\n",
    "- Use simple, day to day english\n",
    "\"\"\")\n",
    "    ]\n",
    "\n",
    "    response =llm.invoke(messages).content\n",
    "\n",
    "    return {\"tweet\":response,\"tweet_history\":[response]}"
   ]
  },
  {
   "cell_type": "code",
   "execution_count": 5,
   "id": "31d2849d",
   "metadata": {},
   "outputs": [],
   "source": [
    "  # prompt\n",
    "def Evaluator(state:TweetState):\n",
    "    messages = [\n",
    "    SystemMessage(content=\"You are a ruthless, no-laugh-given Twitter critic. You evaluate tweets based on humor, originality, virality, and tweet format.\"),\n",
    "    HumanMessage(content=f\"\"\"\n",
    "Evaluate the following tweet:\n",
    "\n",
    "Tweet: \"{state['tweet']}\"\n",
    "\n",
    "Use the criteria below to evaluate the tweet:\n",
    "\n",
    "1. Originality – Is this fresh, or have you seen it a hundred times before?  \n",
    "2. Humor – Did it genuinely make you smile, laugh, or chuckle?  \n",
    "3. Punchiness – Is it short, sharp, and scroll-stopping?  \n",
    "4. Virality Potential – Would people retweet or share it?  \n",
    "5. Format – Is it a well-formed tweet (not a setup-punchline joke, not a Q&A joke, and under 300 characters)?\n",
    "\n",
    "Auto-reject if:\n",
    "- It's written in question-answer format (e.g., \"Why did...\" or \"What happens when...\")\n",
    "- It exceeds 300 characters\n",
    "- It reads like a traditional setup-punchline joke\n",
    "- Dont end with generic, throwaway, or deflating lines that weaken the humor (e.g., “Masterpieces of the auntie-uncle universe” or vague summaries)\n",
    "\n",
    "### Respond ONLY in structured format:\n",
    "- evaluation: \"approved\" or \"needs_improvement\"  \n",
    "- feedback: One paragraph explaining the strengths and weaknesses \n",
    "\"\"\")\n",
    "]\n",
    "    \n",
    "    response = structured_evaluation_llm.invoke(messages)\n",
    "\n",
    "    return {\"evaluation\":response.evaluation,\"feedback\":response.feedback,\"feedback_history\":[response.feedback]}"
   ]
  },
  {
   "cell_type": "code",
   "execution_count": 6,
   "id": "dd7bd1a5",
   "metadata": {},
   "outputs": [],
   "source": [
    "def Optimizer(state: TweetState):\n",
    "    messages = [\n",
    "        SystemMessage(content=\"You punch up tweets for virality and humor based on given feedback.\"),\n",
    "        HumanMessage(content=f\"\"\"\n",
    "Improve the tweet based on this feedback:\n",
    "\"{state['feedback']}\"\n",
    "\n",
    "Topic: \"{state['topic']}\"\n",
    "Original Tweet:\n",
    "{state['tweet']}\n",
    "\n",
    "Re-write it as a short, viral-worthy tweet. Avoid Q&A style and stay under 280 characters.\n",
    "\"\"\")\n",
    "    ]\n",
    "\n",
    "    response = llm.invoke(messages).content\n",
    "    iteration = state['iteration'] + 1\n",
    "\n",
    "    return {\"tweet\":response,\"iteration\":iteration}"
   ]
  },
  {
   "cell_type": "code",
   "execution_count": 7,
   "id": "cd74cb6c",
   "metadata": {},
   "outputs": [],
   "source": [
    "def conditional(state:TweetState):\n",
    "    if state[\"evaluation\"] == \"Approved\" or state[\"iteration\"] >= state[\"max_iteration\"]:\n",
    "        return \"Approved\"\n",
    "    else:\n",
    "        return \"Need_Improvement\" "
   ]
  },
  {
   "cell_type": "code",
   "execution_count": 8,
   "id": "deb4c2ff",
   "metadata": {},
   "outputs": [],
   "source": [
    "from langgraph.graph import StateGraph, START, END\n",
    "from langgraph.checkpoint.memory import MemorySaver\n",
    "memory=MemorySaver()\n",
    "workflow =StateGraph(TweetState)\n",
    "\n",
    "# add the  nodes\n",
    "workflow.add_node(\"GenerateTweet\",Generator)\n",
    "workflow.add_node(\"OptimizeTweet\",Optimizer)\n",
    "workflow.add_node(\"EvaluateTweet\",Evaluator)\n",
    "# Add the Edges\n",
    "workflow.add_edge(START,\"GenerateTweet\")\n",
    "workflow.add_edge(\"GenerateTweet\",\"EvaluateTweet\")\n",
    "workflow.add_conditional_edges(\"EvaluateTweet\",conditional ,{\"Approved\":END,\"Need_Improvement\":\"OptimizeTweet\"})\n",
    "workflow.add_edge(\"OptimizeTweet\",\"EvaluateTweet\")\n",
    "graph=workflow.compile(checkpointer=memory)"
   ]
  },
  {
   "cell_type": "code",
   "execution_count": 9,
   "id": "370fe114",
   "metadata": {},
   "outputs": [
    {
     "data": {
      "image/png": "[encoded data removed]",
      "text/plain": [
       "<IPython.core.display.Image object>"
      ]
     },
     "metadata": {},
     "output_type": "display_data"
    }
   ],
   "source": [
    "from IPython.display import Image,display\n",
    "display(Image(graph.get_graph().draw_mermaid_png()))"
   ]
  },
  {
   "cell_type": "code",
   "execution_count": 15,
   "id": "4408db2b",
   "metadata": {},
   "outputs": [],
   "source": [
    "config={\"configurable\":{\"thread_id\":\"2\"}}\n",
    "initial_state = {\n",
    "    \"topic\": \"what is my name?\",\n",
    "    \"iteration\": 1,\n",
    "    \"max_iteration\": 5\n",
    "}\n",
    "result = graph.invoke(initial_state,config=config)"
   ]
  },
  {
   "cell_type": "code",
   "execution_count": 16,
   "id": "a5c0deca",
   "metadata": {},
   "outputs": [
    {
     "data": {
      "text/plain": [
       "{'topic': 'what is my name?',\n",
       " 'tweet': '\"My name is probably on a Starbucks cup somewhere, let\\'s be real\" #NameSearch',\n",
       " 'evaluation': 'Approved',\n",
       " 'feedback': \"This tweet is a great example of originality and humor, as the idea of one's name being on a Starbucks cup somewhere is a relatable and amusing concept. The tweet is also punchy and concise, making it scroll-stopping and engaging. The use of the hashtag #NameSearch adds to its virality potential, and the format is well-formed, making it a strong tweet overall. The tweet's strength lies in its ability to evoke a chuckle and make the reader smile, which is a key aspect of a successful tweet.\",\n",
       " 'iteration': 1,\n",
       " 'max_iteration': 5,\n",
       " 'tweet_history': [\"amir is that one friend who's always '5 mins away' but still manages to arrive an hour late\",\n",
       "  \"just realized i'm not a morning person, i'm not a night person, i'm an 'am i still asleep?' person\",\n",
       "  '\"My name is probably on a Starbucks cup somewhere, let\\'s be real\" #NameSearch'],\n",
       " 'feedback_history': [\"This tweet is a great example of a well-crafted joke that effectively uses relatable humor to poke fun at a common experience. The originality of the tweet lies in its ability to capture a universal feeling that many people can identify with, making it both humorous and authentic. The punchiness of the tweet is also noteworthy, as it is short, sharp, and scroll-stopping, making it likely to grab the reader's attention. Additionally, the tweet has strong virality potential, as people are likely to retweet or share it due to its relatability and humor. The format of the tweet is also well-executed, as it is under 300 characters and does not follow a traditional setup-punchline joke structure. Overall, this tweet is a great example of how to effectively use humor and relatability to create a engaging and shareable tweet.\",\n",
       "  \"This tweet is a gem, it's original, funny, and punchy. The humor is spot on, the realization that one is not a morning or night person but rather an 'am i still asleep?' person is relatable and genuinely made me smile. The tweet is well-formed, short, and under 300 characters, making it scroll-stopping and perfect for virality. The language is simple yet effective, and the tone is casual and conversational, which adds to its charm. Overall, this tweet checks all the boxes and has great potential to be retweeted and shared.\",\n",
       "  \"This tweet is a great example of originality and humor, as the idea of one's name being on a Starbucks cup somewhere is a relatable and amusing concept. The tweet is also punchy and concise, making it scroll-stopping and engaging. The use of the hashtag #NameSearch adds to its virality potential, and the format is well-formed, making it a strong tweet overall. The tweet's strength lies in its ability to evoke a chuckle and make the reader smile, which is a key aspect of a successful tweet.\"]}"
      ]
     },
     "execution_count": 16,
     "metadata": {},
     "output_type": "execute_result"
    }
   ],
   "source": [
    "result"
   ]
  },
  {
   "cell_type": "code",
   "execution_count": 17,
   "id": "325bccc0",
   "metadata": {},
   "outputs": [
    {
     "data": {
      "text/plain": [
       "[\"amir is that one friend who's always '5 mins away' but still manages to arrive an hour late\",\n",
       " \"just realized i'm not a morning person, i'm not a night person, i'm an 'am i still asleep?' person\",\n",
       " '\"My name is probably on a Starbucks cup somewhere, let\\'s be real\" #NameSearch']"
      ]
     },
     "execution_count": 17,
     "metadata": {},
     "output_type": "execute_result"
    }
   ],
   "source": [
    "result[\"tweet_history\"]"
   ]
  },
  {
   "cell_type": "code",
   "execution_count": null,
   "id": "448dce96",
   "metadata": {},
   "outputs": [],
   "source": []
  }
 ],
 "metadata": {
  "kernelspec": {
   "display_name": "base",
   "language": "python",
   "name": "python3"
  },
  "language_info": {
   "codemirror_mode": {
    "name": "ipython",
    "version": 3
   },
   "file_extension": ".py",
   "mimetype": "text/x-python",
   "name": "python",
   "nbconvert_exporter": "python",
   "pygments_lexer": "ipython3",
   "version": "3.12.7"
  }
 },
 "nbformat": 4,
 "nbformat_minor": 5
}
