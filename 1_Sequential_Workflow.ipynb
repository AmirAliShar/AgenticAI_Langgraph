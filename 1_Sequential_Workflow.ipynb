{
 "cells": [
  {
   "cell_type": "markdown",
   "id": "70c6034f",
   "metadata": {},
   "source": [
    "# LLM Based Workflow"
   ]
  },
  {
   "cell_type": "code",
   "execution_count": null,
   "id": "6123eaac",
   "metadata": {},
   "outputs": [],
   "source": [
    "from dotenv import load_dotenv\n",
    "import os\n",
    "load_dotenv()\n",
    "GROQ_API_KEY=os.environ.get(\"GROQ_API_KEY\")"
   ]
  },
  {
   "cell_type": "code",
   "execution_count": null,
   "id": "edb5aa9a",
   "metadata": {},
   "outputs": [],
   "source": [
    "from langchain_groq import ChatGroq\n",
    "llm =ChatGroq(model =\"llama-3.3-70b-versatile\")"
   ]
  },
  {
   "cell_type": "code",
   "execution_count": 52,
   "id": "c8153567",
   "metadata": {},
   "outputs": [],
   "source": [
    "# Set inmemory llm cache\n",
    "from langchain_core.globals import set_llm_cache\n",
    "from langchain_core.caches import InMemoryCache\n",
    "set_llm_cache(InMemoryCache())"
   ]
  },
  {
   "cell_type": "code",
   "execution_count": 65,
   "id": "cc5bf453",
   "metadata": {},
   "outputs": [],
   "source": [
    "# Define the LLM State\n",
    "from typing import TypedDict\n",
    "\n",
    "class LLMState(TypedDict):\n",
    "    question: str\n",
    "    answer:   str"
   ]
  },
  {
   "cell_type": "code",
   "execution_count": null,
   "id": "0505dd74",
   "metadata": {},
   "outputs": [],
   "source": [
    "#Define the LLM\n",
    "def LLM_response(state:LLMState) -> LLMState:\n",
    "\n",
    "    #Extract the question from state\n",
    "\n",
    "    question=state[\"question\"]\n",
    "\n",
    "    #Form the prompt\n",
    "\n",
    "    prompt =f\"Please Give the short answers of {question}\"\n",
    "\n",
    "    #Ask the question from model/LLM\n",
    "    answer=llm.invoke(prompt).content\n",
    "\n",
    "    #Update the state\n",
    "    state[\"answer\"]=answer\n",
    "\n",
    "    return state\n"
   ]
  },
  {
   "cell_type": "code",
   "execution_count": null,
   "id": "3016e25f",
   "metadata": {},
   "outputs": [],
   "source": [
    "from langgraph.graph import StateGraph,START,END\n",
    "workflow=StateGraph(LLMState)\n",
    "\n",
    "#Add the nodes\n",
    "workflow.add_node(\"LLM\",LLM_response)\n",
    "\n",
    "#Add the Edges\n",
    "workflow.add_edge(START,\"LLM\")\n",
    "workflow.add_edge(\"LLM\",END)\n",
    "#Compile the workflow\n",
    "graph = workflow.compile()"
   ]
  },
  {
   "cell_type": "code",
   "execution_count": 71,
   "id": "f8b11ff4",
   "metadata": {},
   "outputs": [
    {
     "name": "stdout",
     "output_type": "stream",
     "text": [
      "{'question': 'What is human heart beat rate in 20 years age ', 'answer': 'The normal heart beat rate for a 20-year-old is between **60-100 beats per minute (bpm)**.'}\n"
     ]
    }
   ],
   "source": [
    "#Execute the Graph\n",
    "\n",
    "result =graph.invoke({\"question\":\"What is human heart beat rate in 20 years age \"})\n",
    "print(result)"
   ]
  },
  {
   "cell_type": "code",
   "execution_count": 72,
   "id": "6e11dca2",
   "metadata": {},
   "outputs": [
    {
     "name": "stdout",
     "output_type": "stream",
     "text": [
      "The normal heart beat rate for a 20-year-old is between **60-100 beats per minute (bpm)**.\n"
     ]
    }
   ],
   "source": [
    "print(result[\"answer\"])"
   ]
  },
  {
   "cell_type": "markdown",
   "id": "04dfc95d",
   "metadata": {},
   "source": [
    "# Non LLM Based workflow"
   ]
  },
  {
   "cell_type": "code",
   "execution_count": 53,
   "id": "7f07f547",
   "metadata": {},
   "outputs": [],
   "source": [
    "from typing import TypedDict\n",
    "\n",
    "# Define the state\n",
    "class BMIState(TypedDict):\n",
    "    weight_kg:float\n",
    "    height_meter:float\n",
    "    bmi:float\n",
    "    category:str"
   ]
  },
  {
   "cell_type": "code",
   "execution_count": 54,
   "id": "92ef309c",
   "metadata": {},
   "outputs": [],
   "source": [
    "def BMI(state:BMIState) ->BMIState:\n",
    "    weight_kg=state['weight_kg']\n",
    "    height_meter=state['height_meter']\n",
    "\n",
    "    bmi=(weight_kg) / ( height_meter ** 2)\n",
    "\n",
    "    state['bmi']=round(bmi,2)\n",
    "    return state"
   ]
  },
  {
   "cell_type": "code",
   "execution_count": 60,
   "id": "51cde0ed",
   "metadata": {},
   "outputs": [],
   "source": [
    "#Category\n",
    "def label_BMI(state: BMIState) -> BMIState:\n",
    "    bmi=state[\"bmi\"]\n",
    "\n",
    "    if bmi < 18:\n",
    "        state[\"category\"]=\"UnderWeight\"\n",
    "\n",
    "    elif 18.5 < bmi < 25:\n",
    "        state[\"category\"] = \"Normal\"\n",
    "\n",
    "    elif 25.5 < bmi <30 :\n",
    "        state[\"category\"]= \"Overweight\"\n",
    "    else:\n",
    "        state[\"category\"]=\"Obes\"\n",
    "    \n",
    "    return state"
   ]
  },
  {
   "cell_type": "code",
   "execution_count": 61,
   "id": "747b2412",
   "metadata": {},
   "outputs": [],
   "source": [
    "from langgraph.graph import StateGraph,START,END\n",
    "#Define the workflow\n",
    "workflow=StateGraph(BMIState)"
   ]
  },
  {
   "cell_type": "code",
   "execution_count": 62,
   "id": "61f8dea4",
   "metadata": {},
   "outputs": [],
   "source": [
    "#Define the Node\n",
    "\n",
    "workflow.add_node(\"CalculateBMI\",BMI)\n",
    "workflow.add_node(\"Label\",label_BMI)\n",
    "#Define the edges\n",
    "workflow.add_edge(START,\"CalculateBMI\")\n",
    "workflow.add_edge(\"CalculateBMI\",\"Label\")\n",
    "workflow.add_edge(\"Label\",END)\n",
    "\n",
    "#Execute the workflow\n",
    "graph=workflow.compile()"
   ]
  },
  {
   "cell_type": "code",
   "execution_count": 63,
   "id": "a5011452",
   "metadata": {},
   "outputs": [
    {
     "data": {
      "image/png": "[encoded data removed]",
      "text/plain": [
       "<IPython.core.display.Image object>"
      ]
     },
     "metadata": {},
     "output_type": "display_data"
    }
   ],
   "source": [
    "from IPython.display import display,Image\n",
    "display(Image(graph.get_graph().draw_mermaid_png()))"
   ]
  },
  {
   "cell_type": "code",
   "execution_count": 64,
   "id": "53351149",
   "metadata": {},
   "outputs": [
    {
     "name": "stdout",
     "output_type": "stream",
     "text": [
      "{'weight_kg': 34.4, 'height_meter': 1.3, 'bmi': 20.36, 'category': 'Normal'}\n"
     ]
    }
   ],
   "source": [
    "#Execute the workflow\n",
    "initial_state={\"weight_kg\":34.4,'height_meter':1.3}\n",
    "\n",
    "final_result=graph.invoke(initial_state)\n",
    "\n",
    "print(final_result)\n"
   ]
  }
 ],
 "metadata": {
  "kernelspec": {
   "display_name": "base",
   "language": "python",
   "name": "python3"
  },
  "language_info": {
   "codemirror_mode": {
    "name": "ipython",
    "version": 3
   },
   "file_extension": ".py",
   "mimetype": "text/x-python",
   "name": "python",
   "nbconvert_exporter": "python",
   "pygments_lexer": "ipython3",
   "version": "3.12.7"
  }
 },
 "nbformat": 4,
 "nbformat_minor": 5
}
